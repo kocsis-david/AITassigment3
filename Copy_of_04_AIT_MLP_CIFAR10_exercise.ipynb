{
  "nbformat": 4,
  "nbformat_minor": 0,
  "metadata": {
    "anaconda-cloud": {},
    "kernelspec": {
      "display_name": "Python 3",
      "language": "python",
      "name": "python3"
    },
    "language_info": {
      "codemirror_mode": {
        "name": "ipython",
        "version": 3
      },
      "file_extension": ".py",
      "mimetype": "text/x-python",
      "name": "python",
      "nbconvert_exporter": "python",
      "pygments_lexer": "ipython3",
      "version": "3.6.6"
    },
    "colab": {
      "provenance": [],
      "include_colab_link": true
    },
    "accelerator": "GPU"
  },
  "cells": [
    {
      "cell_type": "markdown",
      "metadata": {
        "id": "view-in-github",
        "colab_type": "text"
      },
      "source": [
        "<a href=\"https://colab.research.google.com/github/kocsis-david/AITassigment3/blob/main/Copy_of_04_AIT_MLP_CIFAR10_exercise.ipynb\" target=\"_parent\"><img src=\"https://colab.research.google.com/assets/colab-badge.svg\" alt=\"Open In Colab\"/></a>"
      ]
    },
    {
      "cell_type": "markdown",
      "metadata": {
        "id": "cW-EyI5Lxpqi"
      },
      "source": [
        "# Copyright\n",
        "\n",
        "<PRE>\n",
        "Copyright (c) 2024 Bálint Gyires-Tóth - All Rights Reserved\n",
        "You may use and modify this code for research and development purpuses.\n",
        "Using this code for educational purposes (self-paced or instructor led) without the permission of the author is prohibited.\n",
        "</PRE>"
      ]
    },
    {
      "cell_type": "markdown",
      "source": [
        "# Example of data exploration, modeling, regulartion and prediction\n",
        "Our exercise today involves loading a standard dataset using TensorFlow Keras API, exploring the data, building a simple neural network, and evaluating the effects of basic methods (activation functions, regularization, weight initialization, etc.). We then perform predictions on the test set and inspect the results."
      ],
      "metadata": {
        "id": "3EX4cCa4WKJu"
      }
    },
    {
      "cell_type": "markdown",
      "source": [
        "# 1. Data\n",
        "The dataset we will use is the well-known CIFAR10 (Canadian Institute For Advanced Research). Explore the details on the Keras website first: https://keras.io/api/datasets/cifar10/\n",
        "\n",
        "After you explored the basic features of the data, let's load it into the memory and explore the shapes:"
      ],
      "metadata": {
        "id": "yY9fztIeWIKt"
      }
    },
    {
      "cell_type": "code",
      "source": [
        "from tensorflow.keras.datasets import cifar10\n",
        "from tensorflow.keras.utils import to_categorical\n",
        "import numpy as np"
      ],
      "metadata": {
        "id": "giRZKTjzX_7l"
      },
      "execution_count": 50,
      "outputs": []
    },
    {
      "cell_type": "code",
      "source": [
        "(X_train, Y_train), (X_test, Y_test) = cifar10.load_data()"
      ],
      "metadata": {
        "id": "bez7q0eiWQCK"
      },
      "execution_count": 51,
      "outputs": []
    },
    {
      "cell_type": "code",
      "source": [
        "print(X_train.shape)\n",
        "print(X_test.shape)\n",
        "print(Y_train.shape)\n",
        "print(Y_test.shape)"
      ],
      "metadata": {
        "id": "2tJoRq5wXywi",
        "colab": {
          "base_uri": "https://localhost:8080/"
        },
        "outputId": "7aebe4a5-a6f0-4c83-8266-a86fda919568"
      },
      "execution_count": 52,
      "outputs": [
        {
          "output_type": "stream",
          "name": "stdout",
          "text": [
            "(50000, 32, 32, 3)\n",
            "(10000, 32, 32, 3)\n",
            "(50000, 1)\n",
            "(10000, 1)\n"
          ]
        }
      ]
    },
    {
      "cell_type": "markdown",
      "source": [
        "## 1.1. Exercise\n",
        "Display the first ten images of the training data. Hints:\n",
        "* Axis 0 refers to the separate images, e.g. X_train[0]\n",
        "* You can use the [Matplotlib Pyplot imshow function](https://matplotlib.org/stable/api/_as_gen/matplotlib.pyplot.imshow.html) for displaying the image. Just don't forget to import Plotly first!\n",
        "* A corresponding example, but you have to modify the code for your purpose: https://stackoverflow.com/questions/46615554/how-to-display-multiple-images-in-one-figure-correctly"
      ],
      "metadata": {
        "id": "zTCSGFyDlNvf"
      }
    },
    {
      "cell_type": "code",
      "source": [
        "import matplotlib.pyplot as plt\n",
        "\n",
        "import matplotlib.pyplot as plt\n",
        "\n",
        "fig, ax = plt.subplots(1, 10, figsize=(20, 20))\n",
        "for i in range(10):\n",
        "    ax[i].imshow(X_train[i])\n",
        "    ax[i].axis('off')\n",
        "plt.show()"
      ],
      "metadata": {
        "id": "hIQhHTppmBdO",
        "colab": {
          "base_uri": "https://localhost:8080/",
          "height": 141
        },
        "outputId": "b6fc84af-245c-46ff-e9b2-70ee1648ae5b"
      },
      "execution_count": 53,
      "outputs": [
        {
          "output_type": "display_data",
          "data": {
            "text/plain": [
              "<Figure size 2000x2000 with 10 Axes>"
            ],
            "image/png": "[encoded data removed]"
          },
          "metadata": {}
        }
      ]
    },
    {
      "cell_type": "markdown",
      "source": [
        "Print the corresponding labels of the displayed images from the target variable (Y_train):"
      ],
      "metadata": {
        "id": "FAQkUWlmm-bc"
      }
    },
    {
      "cell_type": "code",
      "source": [
        "print(Y_train[:10]);"
      ],
      "metadata": {
        "id": "AkOrWzghnJ78",
        "colab": {
          "base_uri": "https://localhost:8080/"
        },
        "outputId": "44fdfea7-ac96-4795-dd72-ad64aada50ce"
      },
      "execution_count": 54,
      "outputs": [
        {
          "output_type": "stream",
          "name": "stdout",
          "text": [
            "[[6]\n",
            " [9]\n",
            " [9]\n",
            " [4]\n",
            " [1]\n",
            " [1]\n",
            " [2]\n",
            " [7]\n",
            " [8]\n",
            " [3]]\n"
          ]
        }
      ]
    },
    {
      "cell_type": "markdown",
      "source": [
        "## 1.2. Exercise\n",
        "We will train a Multi-Layer Perceptron (MLP), which requires a 2 dimensional input: 0th axis refers to the datapoints (i.e. images), the 1th dimens to the input. As images are 3 dimensional (width, height, color channels), you have to reshape the images into vectors. We also call this flattening.\n",
        "\n",
        "In order to do so, calculate the size of the equivalent 1D vector of the image:"
      ],
      "metadata": {
        "id": "VX24g5FstsRU"
      }
    },
    {
      "cell_type": "code",
      "source": [
        "flattened_dim = (X_train.shape[1]*X_train.shape[2]*X_train.shape[3])"
      ],
      "metadata": {
        "id": "hdoMyxHzuXZG"
      },
      "execution_count": 55,
      "outputs": []
    },
    {
      "cell_type": "markdown",
      "source": [
        "After you calculated it, we can reshape the images, and covert the integer arrays into float arrays -- which are needed for the neural networks as input. Hint:\n",
        "* in the [reshape() function of Numpy](https://www.w3schools.com/python/numpy/numpy_array_reshape.asp) you can use -1 for one axis, to automatically calculate that value."
      ],
      "metadata": {
        "id": "WbqXJUSFubeC"
      }
    },
    {
      "cell_type": "code",
      "source": [
        "# reshape 3D tensors to 2D tensors\n",
        "X_train = X_train.reshape((-1,flattened_dim))\n",
        "X_test = X_test.reshape((-1,flattened_dim))\n",
        "\n",
        "# it is in int8 format, the neural network requires float32\n",
        "X_train = X_train.astype(np.float32)\n",
        "X_test = X_test.astype(np.float32)"
      ],
      "metadata": {
        "id": "vukOcBM0XzSj"
      },
      "execution_count": 56,
      "outputs": []
    },
    {
      "cell_type": "markdown",
      "source": [
        "## 1.3. Exercise\n",
        "As the next step, let's split the training data into training and validation data. 80% of the original training data should be the final training data, and 20% the validation.\n",
        "You should use Numpy indexing to select the first 80% of X_train as final X_train, and the last 20% as X_valid. Hints:\n",
        "* https://datascienceparichay.com/article/numpy-array-first-n-rows/\n",
        "* https://datascienceparichay.com/article/numpy-array-last-n-rows/"
      ],
      "metadata": {
        "id": "DO79AdIdvVfD"
      }
    },
    {
      "cell_type": "code",
      "source": [
        "train_ratio  = 0.8\n",
        "train_length = int(X_train.shape[0] * train_ratio)\n",
        "train_split  = X_train.shape[0] - train_length\n",
        "X_valid, Y_valid = X_train[:train_length], Y_train[:train_length]\n",
        "X_train, Y_train = X_train[train_split:], Y_train[train_split:]"
      ],
      "metadata": {
        "id": "mRwuWxxIxLgN"
      },
      "execution_count": 57,
      "outputs": []
    },
    {
      "cell_type": "markdown",
      "source": [
        "## 1.4. Exercise\n",
        "As the last step of input data preparation, the data should be standardized. Calculate the mean and variance of the training data (elementvise -- so for each value of the flattened image you should get a mean and variance for the training data along 0th axis). Hint:\n",
        "* https://stackoverflow.com/questions/70626231/how-to-calculate-mean-variance-standard-deviation-per-index-of-array"
      ],
      "metadata": {
        "id": "z05y_QWDxWER"
      }
    },
    {
      "cell_type": "code",
      "source": [
        "mean =np.mean(X_train)\n",
        "std  =np.std(X_train)"
      ],
      "metadata": {
        "id": "TSZbvWCBx8Ea"
      },
      "execution_count": 58,
      "outputs": []
    },
    {
      "cell_type": "markdown",
      "source": [
        "Next, use the resulting values to standardize the training, validation and test data by substracting the mean and dividing the result with the standard deviation."
      ],
      "metadata": {
        "id": "6WRHKkkjyN1S"
      }
    },
    {
      "cell_type": "code",
      "source": [
        "X_train = (X_train-mean)/std\n",
        "X_valid = (X_valid-mean)/std\n",
        "X_test  = (X_test-mean)/std"
      ],
      "metadata": {
        "id": "2ESLP1EIyB2J"
      },
      "execution_count": 59,
      "outputs": []
    },
    {
      "cell_type": "markdown",
      "source": [
        "## 1.5. Exercise\n",
        "And as the last step, convert the dense representation of the classes (i.e. 0,1,2,3...9) to one-hot encoding (0 = [1 0 0 0 0 0 0 0 0 0], 1 = [0 1 0 0 0 0 0 0 0 0] ... 9 = [0 0 0 0 0 0 0 0 0 1]). To do this, first, calculate the number of unique elements in the target training data. Hints:\n",
        "* use the [unique() function](https://numpy.org/doc/stable/reference/generated/numpy.unique.html) of Numpy to list the unique elements\n",
        "* you can count the number of elements in a list with the [len() function](https://www.w3schools.com/python/ref_func_len.asp)"
      ],
      "metadata": {
        "id": "ooHCnUin7r4o"
      }
    },
    {
      "cell_type": "code",
      "source": [
        "nb_classes =len(np.unique(Y_train))"
      ],
      "metadata": {
        "id": "i0LAO9cs8KEE"
      },
      "execution_count": 60,
      "outputs": []
    },
    {
      "cell_type": "markdown",
      "source": [
        "Doublecheck, if the same number of classes exists in the validation and test target data:"
      ],
      "metadata": {
        "id": "BvM6XhGe8JU9"
      }
    },
    {
      "cell_type": "code",
      "source": [
        "print(\"Validation data has the same number of classes, as the training data:\", nb_classes == len(np.unique(Y_valid)))\n",
        "print(\"Test data has the same number of classes, as the training data:\", nb_classes == len(np.unique(Y_test)))"
      ],
      "metadata": {
        "id": "eZFNSsyx_Py2",
        "colab": {
          "base_uri": "https://localhost:8080/"
        },
        "outputId": "a2488946-27d2-4982-aa56-f80df1ee1f5f"
      },
      "execution_count": 61,
      "outputs": [
        {
          "output_type": "stream",
          "name": "stdout",
          "text": [
            "Validation data has the same number of classes, as the training data: True\n",
            "Test data has the same number of classes, as the training data: True\n"
          ]
        }
      ]
    },
    {
      "cell_type": "markdown",
      "source": [
        "And convert the dense representation into one-hot encoding. Hint:\n",
        "* use the [to_categorical function](https://www.tensorflow.org/api_docs/python/tf/keras/utils/to_categorical) with the calculated nb_classes\n"
      ],
      "metadata": {
        "id": "mJM-iBmR8dLe"
      }
    },
    {
      "cell_type": "code",
      "source": [
        "Y_train = to_categorical(Y_train, nb_classes)\n",
        "Y_valid = to_categorical(Y_valid, nb_classes)\n",
        "Y_test  = to_categorical(Y_test, nb_classes)"
      ],
      "metadata": {
        "id": "xwZ4OJ6I8lba"
      },
      "execution_count": 62,
      "outputs": []
    },
    {
      "cell_type": "markdown",
      "source": [
        "## Final check of data preparation\n",
        "Now, lets check the shapes and mean and standard deviation of the training, validation and test data."
      ],
      "metadata": {
        "id": "LshN2OSsv3TZ"
      }
    },
    {
      "cell_type": "code",
      "source": [
        "print(\"Shapes of the training, validation and test input data:\", X_train.shape, X_valid.shape, X_test.shape)\n",
        "print(\"Shapes of the training, validation and test output data:\", Y_train.shape, Y_valid.shape, Y_test.shape)\n",
        "print(\"Mean values of the training, validation and test input data:\", X_train.mean(), X_valid.mean(), X_test.mean())\n",
        "print(\"Standard deviation of the training, validation and test input data:\", X_train.std(), X_valid.std(), X_test.std())"
      ],
      "metadata": {
        "id": "O_jdJVcvX0vi",
        "colab": {
          "base_uri": "https://localhost:8080/"
        },
        "outputId": "407e42b7-91f4-4938-b9a9-1bfee3f97b98"
      },
      "execution_count": 63,
      "outputs": [
        {
          "output_type": "stream",
          "name": "stdout",
          "text": [
            "Shapes of the training, validation and test input data: (40000, 3072) (40000, 3072) (10000, 3072)\n",
            "Shapes of the training, validation and test output data: (40000, 10) (40000, 10) (10000, 10)\n",
            "Mean values of the training, validation and test input data: 3.9108672e-06 0.00084301387 0.01412415\n",
            "Standard deviation of the training, validation and test input data: 1.0000006 1.0015938 0.99955535\n"
          ]
        }
      ]
    },
    {
      "cell_type": "markdown",
      "source": [
        "Don't worry, if the mean and standard deviation of the validation and test data are not exactly 0 and 1, but these might be very mear to it (e.g. 0.01 mean, 0.99 variance)."
      ],
      "metadata": {
        "id": "5GtAOOoezmZY"
      }
    },
    {
      "cell_type": "markdown",
      "metadata": {
        "id": "cJ14oyZExpqj"
      },
      "source": [
        "# 2. Training"
      ]
    },
    {
      "cell_type": "markdown",
      "metadata": {
        "id": "s4ZXYRMBxpql"
      },
      "source": [
        "Let us begin with a simple example of creating a small neural network without regularization and training it with actual data. The purpose of this is to provide you with an example as to how to proceed with the next exercise."
      ]
    },
    {
      "cell_type": "code",
      "source": [
        "# imports\n",
        "import numpy as np\n",
        "import matplotlib.pyplot as plt\n",
        "from tensorflow.keras.models import Sequential\n",
        "from tensorflow.keras.layers import Dense, Embedding, Flatten, Dropout\n",
        "from tensorflow.keras.initializers import HeNormal\n",
        "from tensorflow.keras.callbacks import EarlyStopping"
      ],
      "metadata": {
        "id": "6-8Q6ll7ZDgq"
      },
      "execution_count": 64,
      "outputs": []
    },
    {
      "cell_type": "code",
      "source": [
        "# model definition\n",
        "model = Sequential()\n",
        "model.add(Dense(128, activation='tanh', input_shape=(flattened_dim,)))\n",
        "model.add(Dense(128, activation='tanh'))\n",
        "model.add(Dense(nb_classes, activation='softmax'))\n",
        "\n",
        "# loss function and optimizer\n",
        "model.compile(loss='categorical_crossentropy', optimizer='adam', metrics=['accuracy'])"
      ],
      "metadata": {
        "id": "pke6w3CD8DHp"
      },
      "execution_count": 65,
      "outputs": []
    },
    {
      "cell_type": "code",
      "metadata": {
        "id": "CZbOR76QxprC",
        "colab": {
          "base_uri": "https://localhost:8080/"
        },
        "outputId": "303c1ae4-dd36-4b14-d9d1-5be2973178a8"
      },
      "source": [
        "# training\n",
        "network_history = model.fit(X_train, Y_train,\n",
        "                            validation_data=(X_valid,Y_valid),\n",
        "                            batch_size=128,\n",
        "                            epochs=40,\n",
        "                            verbose=1)"
      ],
      "execution_count": 66,
      "outputs": [
        {
          "output_type": "stream",
          "name": "stdout",
          "text": [
            "Epoch 1/40\n",
            "313/313 [==============================] - 4s 9ms/step - loss: 1.8259 - accuracy: 0.3629 - val_loss: 1.7070 - val_accuracy: 0.4078\n",
            "Epoch 2/40\n",
            "313/313 [==============================] - 2s 6ms/step - loss: 1.6949 - accuracy: 0.4123 - val_loss: 1.6355 - val_accuracy: 0.4311\n",
            "Epoch 3/40\n",
            "313/313 [==============================] - 2s 6ms/step - loss: 1.6412 - accuracy: 0.4315 - val_loss: 1.6201 - val_accuracy: 0.4343\n",
            "Epoch 4/40\n",
            "313/313 [==============================] - 2s 6ms/step - loss: 1.5907 - accuracy: 0.4465 - val_loss: 1.5616 - val_accuracy: 0.4598\n",
            "Epoch 5/40\n",
            "313/313 [==============================] - 2s 7ms/step - loss: 1.5565 - accuracy: 0.4597 - val_loss: 1.5401 - val_accuracy: 0.4668\n",
            "Epoch 6/40\n",
            "313/313 [==============================] - 3s 8ms/step - loss: 1.5278 - accuracy: 0.4683 - val_loss: 1.5132 - val_accuracy: 0.4752\n",
            "Epoch 7/40\n",
            "313/313 [==============================] - 2s 7ms/step - loss: 1.4986 - accuracy: 0.4799 - val_loss: 1.4916 - val_accuracy: 0.4821\n",
            "Epoch 8/40\n",
            "313/313 [==============================] - 2s 7ms/step - loss: 1.4743 - accuracy: 0.4880 - val_loss: 1.4574 - val_accuracy: 0.4985\n",
            "Epoch 9/40\n",
            "313/313 [==============================] - 2s 8ms/step - loss: 1.4474 - accuracy: 0.4959 - val_loss: 1.4431 - val_accuracy: 0.4985\n",
            "Epoch 10/40\n",
            "313/313 [==============================] - 2s 6ms/step - loss: 1.4250 - accuracy: 0.5062 - val_loss: 1.4359 - val_accuracy: 0.5005\n",
            "Epoch 11/40\n",
            "313/313 [==============================] - 3s 11ms/step - loss: 1.4011 - accuracy: 0.5102 - val_loss: 1.3961 - val_accuracy: 0.5159\n",
            "Epoch 12/40\n",
            "313/313 [==============================] - 2s 8ms/step - loss: 1.3717 - accuracy: 0.5230 - val_loss: 1.3864 - val_accuracy: 0.5205\n",
            "Epoch 13/40\n",
            "313/313 [==============================] - 2s 8ms/step - loss: 1.3506 - accuracy: 0.5286 - val_loss: 1.3769 - val_accuracy: 0.5237\n",
            "Epoch 14/40\n",
            "313/313 [==============================] - 2s 8ms/step - loss: 1.3321 - accuracy: 0.5366 - val_loss: 1.3624 - val_accuracy: 0.5261\n",
            "Epoch 15/40\n",
            "313/313 [==============================] - 2s 7ms/step - loss: 1.3149 - accuracy: 0.5433 - val_loss: 1.3388 - val_accuracy: 0.5364\n",
            "Epoch 16/40\n",
            "313/313 [==============================] - 2s 7ms/step - loss: 1.2986 - accuracy: 0.5451 - val_loss: 1.3088 - val_accuracy: 0.5457\n",
            "Epoch 17/40\n",
            "313/313 [==============================] - 2s 8ms/step - loss: 1.2752 - accuracy: 0.5564 - val_loss: 1.3036 - val_accuracy: 0.5505\n",
            "Epoch 18/40\n",
            "313/313 [==============================] - 2s 7ms/step - loss: 1.2515 - accuracy: 0.5648 - val_loss: 1.2972 - val_accuracy: 0.5538\n",
            "Epoch 19/40\n",
            "313/313 [==============================] - 2s 6ms/step - loss: 1.2465 - accuracy: 0.5638 - val_loss: 1.2848 - val_accuracy: 0.5566\n",
            "Epoch 20/40\n",
            "313/313 [==============================] - 2s 6ms/step - loss: 1.2228 - accuracy: 0.5738 - val_loss: 1.2696 - val_accuracy: 0.5647\n",
            "Epoch 21/40\n",
            "313/313 [==============================] - 2s 7ms/step - loss: 1.2014 - accuracy: 0.5810 - val_loss: 1.2493 - val_accuracy: 0.5713\n",
            "Epoch 22/40\n",
            "313/313 [==============================] - 2s 6ms/step - loss: 1.1829 - accuracy: 0.5894 - val_loss: 1.2507 - val_accuracy: 0.5707\n",
            "Epoch 23/40\n",
            "313/313 [==============================] - 2s 6ms/step - loss: 1.1718 - accuracy: 0.5955 - val_loss: 1.2295 - val_accuracy: 0.5787\n",
            "Epoch 24/40\n",
            "313/313 [==============================] - 2s 8ms/step - loss: 1.1422 - accuracy: 0.6027 - val_loss: 1.2199 - val_accuracy: 0.5807\n",
            "Epoch 25/40\n",
            "313/313 [==============================] - 2s 7ms/step - loss: 1.1393 - accuracy: 0.6030 - val_loss: 1.2130 - val_accuracy: 0.5835\n",
            "Epoch 26/40\n",
            "313/313 [==============================] - 2s 6ms/step - loss: 1.1158 - accuracy: 0.6124 - val_loss: 1.1882 - val_accuracy: 0.5944\n",
            "Epoch 27/40\n",
            "313/313 [==============================] - 2s 8ms/step - loss: 1.0992 - accuracy: 0.6170 - val_loss: 1.1989 - val_accuracy: 0.5915\n",
            "Epoch 28/40\n",
            "313/313 [==============================] - 2s 8ms/step - loss: 1.0944 - accuracy: 0.6193 - val_loss: 1.1867 - val_accuracy: 0.5947\n",
            "Epoch 29/40\n",
            "313/313 [==============================] - 2s 6ms/step - loss: 1.0725 - accuracy: 0.6274 - val_loss: 1.1660 - val_accuracy: 0.6040\n",
            "Epoch 30/40\n",
            "313/313 [==============================] - 2s 8ms/step - loss: 1.0434 - accuracy: 0.6379 - val_loss: 1.1636 - val_accuracy: 0.6062\n",
            "Epoch 31/40\n",
            "313/313 [==============================] - 2s 6ms/step - loss: 1.0380 - accuracy: 0.6398 - val_loss: 1.1594 - val_accuracy: 0.6071\n",
            "Epoch 32/40\n",
            "313/313 [==============================] - 2s 8ms/step - loss: 1.0160 - accuracy: 0.6456 - val_loss: 1.1289 - val_accuracy: 0.6198\n",
            "Epoch 33/40\n",
            "313/313 [==============================] - 3s 8ms/step - loss: 1.0076 - accuracy: 0.6503 - val_loss: 1.1276 - val_accuracy: 0.6249\n",
            "Epoch 34/40\n",
            "313/313 [==============================] - 2s 6ms/step - loss: 0.9953 - accuracy: 0.6554 - val_loss: 1.1315 - val_accuracy: 0.6212\n",
            "Epoch 35/40\n",
            "313/313 [==============================] - 2s 8ms/step - loss: 0.9755 - accuracy: 0.6629 - val_loss: 1.1321 - val_accuracy: 0.6235\n",
            "Epoch 36/40\n",
            "313/313 [==============================] - 2s 6ms/step - loss: 0.9640 - accuracy: 0.6653 - val_loss: 1.1041 - val_accuracy: 0.6286\n",
            "Epoch 37/40\n",
            "313/313 [==============================] - 2s 8ms/step - loss: 0.9444 - accuracy: 0.6732 - val_loss: 1.1139 - val_accuracy: 0.6308\n",
            "Epoch 38/40\n",
            "313/313 [==============================] - 2s 7ms/step - loss: 0.9315 - accuracy: 0.6776 - val_loss: 1.0883 - val_accuracy: 0.6410\n",
            "Epoch 39/40\n",
            "313/313 [==============================] - 2s 8ms/step - loss: 0.9158 - accuracy: 0.6854 - val_loss: 1.0683 - val_accuracy: 0.6482\n",
            "Epoch 40/40\n",
            "313/313 [==============================] - 2s 8ms/step - loss: 0.8981 - accuracy: 0.6873 - val_loss: 1.0838 - val_accuracy: 0.6441\n"
          ]
        }
      ]
    },
    {
      "cell_type": "markdown",
      "metadata": {
        "id": "uFqhzV85xprJ"
      },
      "source": [
        "Let's plot the training and validation loss and accuracy curves:"
      ]
    },
    {
      "cell_type": "code",
      "metadata": {
        "id": "BYmXGkLCxprK",
        "colab": {
          "base_uri": "https://localhost:8080/",
          "height": 883
        },
        "outputId": "aeaee1c4-5b81-45c4-eb78-63be03351e3b"
      },
      "source": [
        "def plot_history(network_history):\n",
        "    plt.figure()\n",
        "    plt.xlabel('Epochs')\n",
        "    plt.ylabel('Loss')\n",
        "    plt.plot(network_history.history['loss'])\n",
        "    plt.plot(network_history.history['val_loss'])\n",
        "    plt.legend(['Training', 'Validation'])\n",
        "\n",
        "    plt.figure()\n",
        "    plt.xlabel('Epochs')\n",
        "    plt.ylabel('Accuracy')\n",
        "    plt.plot(network_history.history['accuracy'])\n",
        "    plt.plot(network_history.history['val_accuracy'])\n",
        "    plt.legend(['Training', 'Validation'], loc='lower right')\n",
        "    plt.show()\n",
        "\n",
        "plot_history(network_history)"
      ],
      "execution_count": 67,
      "outputs": [
        {
          "output_type": "display_data",
          "data": {
            "text/plain": [
              "<Figure size 640x480 with 1 Axes>"
            ],
            "image/png": "[encoded data removed]"
          },
          "metadata": {}
        },
        {
          "output_type": "display_data",
          "data": {
            "text/plain": [
              "<Figure size 640x480 with 1 Axes>"
            ],
            "image/png": "[encoded data removed]"
          },
          "metadata": {}
        }
      ]
    },
    {
      "cell_type": "markdown",
      "source": [
        "What do you think? Does it overfit?"
      ],
      "metadata": {
        "id": "tgG7QeXF-dx6"
      }
    },
    {
      "cell_type": "markdown",
      "metadata": {
        "id": "_Q9rIeBBxprO"
      },
      "source": [
        "# Inspecting the model"
      ]
    },
    {
      "cell_type": "code",
      "metadata": {
        "id": "6r2AmmoMxprP",
        "colab": {
          "base_uri": "https://localhost:8080/"
        },
        "outputId": "d576afa1-7673-401d-c774-e09bbc0dc0f3"
      },
      "source": [
        "model.summary()"
      ],
      "execution_count": 68,
      "outputs": [
        {
          "output_type": "stream",
          "name": "stdout",
          "text": [
            "Model: \"sequential_8\"\n",
            "_________________________________________________________________\n",
            " Layer (type)                Output Shape              Param #   \n",
            "=================================================================\n",
            " dense_23 (Dense)            (None, 128)               393344    \n",
            "                                                                 \n",
            " dense_24 (Dense)            (None, 128)               16512     \n",
            "                                                                 \n",
            " dense_25 (Dense)            (None, 10)                1290      \n",
            "                                                                 \n",
            "=================================================================\n",
            "Total params: 411146 (1.57 MB)\n",
            "Trainable params: 411146 (1.57 MB)\n",
            "Non-trainable params: 0 (0.00 Byte)\n",
            "_________________________________________________________________\n"
          ]
        }
      ]
    },
    {
      "cell_type": "code",
      "metadata": {
        "id": "D3-bVDVuxprS",
        "colab": {
          "base_uri": "https://localhost:8080/"
        },
        "outputId": "31145df8-5e8b-4a9f-ef6a-7832342954d3"
      },
      "source": [
        "print('Input: ', model.input)"
      ],
      "execution_count": 69,
      "outputs": [
        {
          "output_type": "stream",
          "name": "stdout",
          "text": [
            "Input:  KerasTensor(type_spec=TensorSpec(shape=(None, 3072), dtype=tf.float32, name='dense_23_input'), name='dense_23_input', description=\"created by layer 'dense_23_input'\")\n"
          ]
        }
      ]
    },
    {
      "cell_type": "code",
      "metadata": {
        "id": "Da2OJ3DmxprX",
        "colab": {
          "base_uri": "https://localhost:8080/"
        },
        "outputId": "3fece9ad-996a-4094-baec-292fd661f02d"
      },
      "source": [
        "print('Layers:\\n')\n",
        "for layer in model.layers:\n",
        "    print(\"Layer's name: \", layer.name, ', trainable: ', layer.trainable)\n",
        "    print(layer.get_config(),'\\n')"
      ],
      "execution_count": 70,
      "outputs": [
        {
          "output_type": "stream",
          "name": "stdout",
          "text": [
            "Layers:\n",
            "\n",
            "Layer's name:  dense_23 , trainable:  True\n",
            "{'name': 'dense_23', 'trainable': True, 'dtype': 'float32', 'batch_input_shape': (None, 3072), 'units': 128, 'activation': 'tanh', 'use_bias': True, 'kernel_initializer': {'module': 'keras.initializers', 'class_name': 'GlorotUniform', 'config': {'seed': None}, 'registered_name': None}, 'bias_initializer': {'module': 'keras.initializers', 'class_name': 'Zeros', 'config': {}, 'registered_name': None}, 'kernel_regularizer': None, 'bias_regularizer': None, 'activity_regularizer': None, 'kernel_constraint': None, 'bias_constraint': None} \n",
            "\n",
            "Layer's name:  dense_24 , trainable:  True\n",
            "{'name': 'dense_24', 'trainable': True, 'dtype': 'float32', 'units': 128, 'activation': 'tanh', 'use_bias': True, 'kernel_initializer': {'module': 'keras.initializers', 'class_name': 'GlorotUniform', 'config': {'seed': None}, 'registered_name': None}, 'bias_initializer': {'module': 'keras.initializers', 'class_name': 'Zeros', 'config': {}, 'registered_name': None}, 'kernel_regularizer': None, 'bias_regularizer': None, 'activity_regularizer': None, 'kernel_constraint': None, 'bias_constraint': None} \n",
            "\n",
            "Layer's name:  dense_25 , trainable:  True\n",
            "{'name': 'dense_25', 'trainable': True, 'dtype': 'float32', 'units': 10, 'activation': 'softmax', 'use_bias': True, 'kernel_initializer': {'module': 'keras.initializers', 'class_name': 'GlorotUniform', 'config': {'seed': None}, 'registered_name': None}, 'bias_initializer': {'module': 'keras.initializers', 'class_name': 'Zeros', 'config': {}, 'registered_name': None}, 'kernel_regularizer': None, 'bias_regularizer': None, 'activity_regularizer': None, 'kernel_constraint': None, 'bias_constraint': None} \n",
            "\n"
          ]
        }
      ]
    },
    {
      "cell_type": "code",
      "metadata": {
        "id": "AtVX3M3lxprc",
        "colab": {
          "base_uri": "https://localhost:8080/"
        },
        "outputId": "affee409-67f1-4f56-f204-503d6add35b2"
      },
      "source": [
        "print('Output: ', model.output)"
      ],
      "execution_count": 71,
      "outputs": [
        {
          "output_type": "stream",
          "name": "stdout",
          "text": [
            "Output:  KerasTensor(type_spec=TensorSpec(shape=(None, 10), dtype=tf.float32, name=None), name='dense_25/Softmax:0', description=\"created by layer 'dense_25'\")\n"
          ]
        }
      ]
    },
    {
      "cell_type": "markdown",
      "source": [
        "## 2.1. Exercise\n",
        "Introduce [early stopping](https://www.tensorflow.org/api_docs/python/tf/keras/callbacks/EarlyStopping) and [dropout](https://www.tensorflow.org/api_docs/python/tf/keras/layers/Dropout) with a rate between 0.1..0.5. Tips:\n",
        "\n",
        "* Insert the dropout layer between the two Dense layers.\n",
        "* Set the patience of early stopping to 5.\n",
        "* Set the number of epochs to a very high number.\n",
        "* Don't forget to restore best weights after early stopping.\n",
        "* And also set early stopping to monitor validation accuracy (the default value is validation loss -- which is categorical crossentropy now).\n",
        "\n",
        "Compile and train the model. Attempt to increase the validation accuracy as much as possible by making changes to the dropout rate. Inspect the effects of the modifications."
      ],
      "metadata": {
        "id": "E-hHfs9qA_iO"
      }
    },
    {
      "cell_type": "code",
      "source": [
        "es =EarlyStopping(monitor='val_accuracy', patience=20, restore_best_weights=True)"
      ],
      "metadata": {
        "id": "NwXrPzOgEBG-"
      },
      "execution_count": 72,
      "outputs": []
    },
    {
      "cell_type": "code",
      "source": [
        "# model definition with dropout\n",
        "model = Sequential()\n",
        "model.add(Dense(128, activation='ReLu', input_shape=(flattened_dim,)))\n",
        "model.add(Dropout(0.2))\n",
        "model.add(Dense(128, activation='ReLU'))\n",
        "model.add(Dense(nb_classes, activation='softmax'))\n",
        "\n",
        "# loss function and optimizer\n",
        "model.compile(loss='categorical_crossentropy', optimizer='adam', metrics=['accuracy'])"
      ],
      "metadata": {
        "id": "7hZEGzj8GFwP"
      },
      "execution_count": 35,
      "outputs": []
    },
    {
      "cell_type": "code",
      "source": [
        "# training with early stopping\n",
        "network_history = model.fit(X_train, Y_train,\n",
        "                            validation_data=(X_valid,Y_valid),\n",
        "                            batch_size=128,\n",
        "                            epochs=80,\n",
        "                            verbose=1,\n",
        "                            callbacks=[es])"
      ],
      "metadata": {
        "id": "GCG54R-vGGWj",
        "colab": {
          "base_uri": "https://localhost:8080/"
        },
        "outputId": "ea359a2c-e3d5-4a29-ad7d-ab3cebb91105"
      },
      "execution_count": 36,
      "outputs": [
        {
          "output_type": "stream",
          "name": "stdout",
          "text": [
            "Epoch 1/80\n",
            "313/313 [==============================] - 5s 13ms/step - loss: 2.3428 - accuracy: 0.1010 - val_loss: 2.3122 - val_accuracy: 0.0994\n",
            "Epoch 2/80\n",
            "313/313 [==============================] - 2s 6ms/step - loss: 2.3127 - accuracy: 0.1015 - val_loss: 2.3242 - val_accuracy: 0.0994\n",
            "Epoch 3/80\n",
            "313/313 [==============================] - 2s 6ms/step - loss: 2.3126 - accuracy: 0.0991 - val_loss: 2.3098 - val_accuracy: 0.0996\n",
            "Epoch 4/80\n",
            "313/313 [==============================] - 2s 8ms/step - loss: 2.3124 - accuracy: 0.0996 - val_loss: 2.3050 - val_accuracy: 0.0996\n",
            "Epoch 5/80\n",
            "313/313 [==============================] - 2s 8ms/step - loss: 2.3100 - accuracy: 0.0981 - val_loss: 2.3086 - val_accuracy: 0.1001\n",
            "Epoch 6/80\n",
            "313/313 [==============================] - 3s 9ms/step - loss: 2.3114 - accuracy: 0.1014 - val_loss: 2.3058 - val_accuracy: 0.1006\n",
            "Epoch 7/80\n",
            "313/313 [==============================] - 2s 6ms/step - loss: 2.3103 - accuracy: 0.1003 - val_loss: 2.3127 - val_accuracy: 0.0994\n",
            "Epoch 8/80\n",
            "313/313 [==============================] - 2s 6ms/step - loss: 2.3113 - accuracy: 0.1022 - val_loss: 2.3084 - val_accuracy: 0.0999\n",
            "Epoch 9/80\n",
            "313/313 [==============================] - 2s 6ms/step - loss: 2.3119 - accuracy: 0.0971 - val_loss: 2.3135 - val_accuracy: 0.1001\n",
            "Epoch 10/80\n",
            "313/313 [==============================] - 2s 6ms/step - loss: 2.3097 - accuracy: 0.1006 - val_loss: 2.3183 - val_accuracy: 0.0994\n",
            "Epoch 11/80\n",
            "313/313 [==============================] - 2s 8ms/step - loss: 2.3108 - accuracy: 0.0996 - val_loss: 2.3089 - val_accuracy: 0.1006\n",
            "Epoch 12/80\n",
            "313/313 [==============================] - 3s 8ms/step - loss: 2.3116 - accuracy: 0.0991 - val_loss: 2.3085 - val_accuracy: 0.1012\n",
            "Epoch 13/80\n",
            "313/313 [==============================] - 2s 8ms/step - loss: 2.3115 - accuracy: 0.0983 - val_loss: 2.3101 - val_accuracy: 0.0994\n",
            "Epoch 14/80\n",
            "313/313 [==============================] - 2s 6ms/step - loss: 2.3106 - accuracy: 0.1015 - val_loss: 2.3086 - val_accuracy: 0.1005\n",
            "Epoch 15/80\n",
            "313/313 [==============================] - 2s 6ms/step - loss: 2.3106 - accuracy: 0.1005 - val_loss: 2.3119 - val_accuracy: 0.1005\n",
            "Epoch 16/80\n",
            "313/313 [==============================] - 2s 8ms/step - loss: 2.3108 - accuracy: 0.1005 - val_loss: 2.3065 - val_accuracy: 0.0997\n",
            "Epoch 17/80\n",
            "313/313 [==============================] - 2s 7ms/step - loss: 2.3107 - accuracy: 0.0985 - val_loss: 2.3080 - val_accuracy: 0.1012\n",
            "Epoch 18/80\n",
            "313/313 [==============================] - 2s 6ms/step - loss: 2.3092 - accuracy: 0.0984 - val_loss: 2.3067 - val_accuracy: 0.0994\n",
            "Epoch 19/80\n",
            "313/313 [==============================] - 2s 6ms/step - loss: 2.3111 - accuracy: 0.0981 - val_loss: 2.3105 - val_accuracy: 0.1012\n",
            "Epoch 20/80\n",
            "313/313 [==============================] - 2s 8ms/step - loss: 2.3109 - accuracy: 0.0998 - val_loss: 2.3040 - val_accuracy: 0.1006\n",
            "Epoch 21/80\n",
            "313/313 [==============================] - 2s 8ms/step - loss: 2.3104 - accuracy: 0.0986 - val_loss: 2.3077 - val_accuracy: 0.1001\n",
            "Epoch 22/80\n",
            "313/313 [==============================] - 2s 8ms/step - loss: 2.3118 - accuracy: 0.1003 - val_loss: 2.3163 - val_accuracy: 0.1012\n",
            "Epoch 23/80\n",
            "313/313 [==============================] - 2s 6ms/step - loss: 2.3100 - accuracy: 0.1009 - val_loss: 2.3090 - val_accuracy: 0.0997\n",
            "Epoch 24/80\n",
            "313/313 [==============================] - 2s 8ms/step - loss: 2.3096 - accuracy: 0.0991 - val_loss: 2.3199 - val_accuracy: 0.0997\n",
            "Epoch 25/80\n",
            "313/313 [==============================] - 3s 8ms/step - loss: 2.3112 - accuracy: 0.1000 - val_loss: 2.3087 - val_accuracy: 0.1001\n",
            "Epoch 26/80\n",
            "313/313 [==============================] - 2s 6ms/step - loss: 2.3108 - accuracy: 0.0989 - val_loss: 2.3122 - val_accuracy: 0.0994\n",
            "Epoch 27/80\n",
            "313/313 [==============================] - 4s 13ms/step - loss: 2.3099 - accuracy: 0.1011 - val_loss: 2.3134 - val_accuracy: 0.0999\n",
            "Epoch 28/80\n",
            "313/313 [==============================] - 2s 6ms/step - loss: 2.3109 - accuracy: 0.0978 - val_loss: 2.3124 - val_accuracy: 0.0994\n",
            "Epoch 29/80\n",
            "313/313 [==============================] - 2s 8ms/step - loss: 2.3104 - accuracy: 0.1025 - val_loss: 2.3119 - val_accuracy: 0.0994\n",
            "Epoch 30/80\n",
            "313/313 [==============================] - 2s 8ms/step - loss: 2.3115 - accuracy: 0.0978 - val_loss: 2.3127 - val_accuracy: 0.0997\n",
            "Epoch 31/80\n",
            "313/313 [==============================] - 2s 8ms/step - loss: 2.3100 - accuracy: 0.0995 - val_loss: 2.3123 - val_accuracy: 0.0996\n",
            "Epoch 32/80\n",
            "313/313 [==============================] - 2s 7ms/step - loss: 2.3099 - accuracy: 0.1015 - val_loss: 2.3084 - val_accuracy: 0.1006\n"
          ]
        }
      ]
    },
    {
      "cell_type": "markdown",
      "source": [
        "## 2.2 Exercise\n",
        "Change the [activation function of the dense layers (except the last one)](https://www.tensorflow.org/api_docs/python/tf/keras/layers/Dense) to rectified linear unit (ReLU) and the [weight initialization](https://www.tensorflow.org/api_docs/python/tf/keras/initializers) to the theoretically best one. Use the original model's code.\n",
        "\n",
        "Compile and train the model. Inspect the effects of the modifications."
      ],
      "metadata": {
        "id": "zQCDM1o1BBtF"
      }
    },
    {
      "cell_type": "code",
      "source": [
        "# model definition with relu\n",
        "model = Sequential()\n",
        "model.add(Dense(128, activation='ReLU', kernel_initializer='glorot_uniform', input_shape=(flattened_dim,)))\n",
        "model.add(Dense(128, activation='ReLU', kernel_initializer='glorot_uniform'))\n",
        "model.add(Dense(nb_classes, activation='softmax'))\n",
        "\n",
        "# loss function and optimizer\n",
        "model.compile(loss='categorical_crossentropy', optimizer='adam', metrics=['accuracy'])"
      ],
      "metadata": {
        "id": "YjHAAh-wGu9O"
      },
      "execution_count": 73,
      "outputs": []
    },
    {
      "cell_type": "code",
      "source": [
        "# training\n",
        "network_history = model.fit(X_train, Y_train,\n",
        "                            validation_data=(X_valid,Y_valid),\n",
        "                            batch_size=128,\n",
        "                            epochs=40,\n",
        "                            verbose=1)"
      ],
      "metadata": {
        "id": "rarwKM1wGxMz",
        "colab": {
          "base_uri": "https://localhost:8080/"
        },
        "outputId": "480e16e5-24e7-454a-95bb-dea3921fe742"
      },
      "execution_count": 74,
      "outputs": [
        {
          "output_type": "stream",
          "name": "stdout",
          "text": [
            "Epoch 1/40\n",
            "313/313 [==============================] - 4s 11ms/step - loss: 1.7440 - accuracy: 0.3881 - val_loss: 1.5358 - val_accuracy: 0.4577\n",
            "Epoch 2/40\n",
            "313/313 [==============================] - 3s 9ms/step - loss: 1.5079 - accuracy: 0.4695 - val_loss: 1.4168 - val_accuracy: 0.5038\n",
            "Epoch 3/40\n",
            "313/313 [==============================] - 2s 6ms/step - loss: 1.3955 - accuracy: 0.5102 - val_loss: 1.3317 - val_accuracy: 0.5316\n",
            "Epoch 4/40\n",
            "313/313 [==============================] - 2s 6ms/step - loss: 1.3223 - accuracy: 0.5337 - val_loss: 1.2882 - val_accuracy: 0.5526\n",
            "Epoch 5/40\n",
            "313/313 [==============================] - 2s 8ms/step - loss: 1.2532 - accuracy: 0.5620 - val_loss: 1.2363 - val_accuracy: 0.5685\n",
            "Epoch 6/40\n",
            "313/313 [==============================] - 2s 6ms/step - loss: 1.1914 - accuracy: 0.5815 - val_loss: 1.1753 - val_accuracy: 0.5937\n",
            "Epoch 7/40\n",
            "313/313 [==============================] - 2s 8ms/step - loss: 1.1312 - accuracy: 0.6029 - val_loss: 1.1502 - val_accuracy: 0.6030\n",
            "Epoch 8/40\n",
            "313/313 [==============================] - 3s 8ms/step - loss: 1.0859 - accuracy: 0.6186 - val_loss: 1.1096 - val_accuracy: 0.6209\n",
            "Epoch 9/40\n",
            "313/313 [==============================] - 2s 6ms/step - loss: 1.0425 - accuracy: 0.6356 - val_loss: 1.0880 - val_accuracy: 0.6298\n",
            "Epoch 10/40\n",
            "313/313 [==============================] - 2s 6ms/step - loss: 0.9892 - accuracy: 0.6539 - val_loss: 1.0482 - val_accuracy: 0.6441\n",
            "Epoch 11/40\n",
            "313/313 [==============================] - 2s 6ms/step - loss: 0.9471 - accuracy: 0.6660 - val_loss: 1.0492 - val_accuracy: 0.6460\n",
            "Epoch 12/40\n",
            "313/313 [==============================] - 2s 6ms/step - loss: 0.9125 - accuracy: 0.6787 - val_loss: 1.0052 - val_accuracy: 0.6651\n",
            "Epoch 13/40\n",
            "313/313 [==============================] - 2s 8ms/step - loss: 0.8698 - accuracy: 0.6929 - val_loss: 0.9735 - val_accuracy: 0.6789\n",
            "Epoch 14/40\n",
            "313/313 [==============================] - 2s 6ms/step - loss: 0.8350 - accuracy: 0.7070 - val_loss: 0.9934 - val_accuracy: 0.6741\n",
            "Epoch 15/40\n",
            "313/313 [==============================] - 2s 6ms/step - loss: 0.7997 - accuracy: 0.7178 - val_loss: 0.9715 - val_accuracy: 0.6881\n",
            "Epoch 16/40\n",
            "313/313 [==============================] - 2s 8ms/step - loss: 0.7668 - accuracy: 0.7282 - val_loss: 0.9256 - val_accuracy: 0.7024\n",
            "Epoch 17/40\n",
            "313/313 [==============================] - 2s 6ms/step - loss: 0.7336 - accuracy: 0.7408 - val_loss: 0.9511 - val_accuracy: 0.6979\n",
            "Epoch 18/40\n",
            "313/313 [==============================] - 2s 6ms/step - loss: 0.7072 - accuracy: 0.7510 - val_loss: 0.9215 - val_accuracy: 0.7100\n",
            "Epoch 19/40\n",
            "313/313 [==============================] - 3s 8ms/step - loss: 0.6684 - accuracy: 0.7632 - val_loss: 0.9103 - val_accuracy: 0.7189\n",
            "Epoch 20/40\n",
            "313/313 [==============================] - 2s 8ms/step - loss: 0.6403 - accuracy: 0.7748 - val_loss: 0.9140 - val_accuracy: 0.7228\n",
            "Epoch 21/40\n",
            "313/313 [==============================] - 2s 6ms/step - loss: 0.6228 - accuracy: 0.7802 - val_loss: 0.9066 - val_accuracy: 0.7297\n",
            "Epoch 22/40\n",
            "313/313 [==============================] - 2s 7ms/step - loss: 0.5955 - accuracy: 0.7892 - val_loss: 0.8929 - val_accuracy: 0.7392\n",
            "Epoch 23/40\n",
            "313/313 [==============================] - 3s 10ms/step - loss: 0.5672 - accuracy: 0.8007 - val_loss: 0.9172 - val_accuracy: 0.7367\n",
            "Epoch 24/40\n",
            "313/313 [==============================] - 3s 8ms/step - loss: 0.5604 - accuracy: 0.8030 - val_loss: 0.8949 - val_accuracy: 0.7478\n",
            "Epoch 25/40\n",
            "313/313 [==============================] - 2s 8ms/step - loss: 0.5285 - accuracy: 0.8158 - val_loss: 0.8717 - val_accuracy: 0.7591\n",
            "Epoch 26/40\n",
            "313/313 [==============================] - 2s 8ms/step - loss: 0.5040 - accuracy: 0.8211 - val_loss: 0.9246 - val_accuracy: 0.7499\n",
            "Epoch 27/40\n",
            "313/313 [==============================] - 2s 6ms/step - loss: 0.4881 - accuracy: 0.8270 - val_loss: 0.9055 - val_accuracy: 0.7592\n",
            "Epoch 28/40\n",
            "313/313 [==============================] - 2s 8ms/step - loss: 0.4740 - accuracy: 0.8349 - val_loss: 0.8976 - val_accuracy: 0.7660\n",
            "Epoch 29/40\n",
            "313/313 [==============================] - 4s 14ms/step - loss: 0.4429 - accuracy: 0.8468 - val_loss: 0.9008 - val_accuracy: 0.7738\n",
            "Epoch 30/40\n",
            "313/313 [==============================] - 2s 6ms/step - loss: 0.4244 - accuracy: 0.8526 - val_loss: 0.8844 - val_accuracy: 0.7816\n",
            "Epoch 31/40\n",
            "313/313 [==============================] - 2s 8ms/step - loss: 0.4222 - accuracy: 0.8523 - val_loss: 0.9190 - val_accuracy: 0.7791\n",
            "Epoch 32/40\n",
            "313/313 [==============================] - 2s 8ms/step - loss: 0.4125 - accuracy: 0.8561 - val_loss: 0.8982 - val_accuracy: 0.7816\n",
            "Epoch 33/40\n",
            "313/313 [==============================] - 2s 6ms/step - loss: 0.3883 - accuracy: 0.8626 - val_loss: 0.9388 - val_accuracy: 0.7792\n",
            "Epoch 34/40\n",
            "313/313 [==============================] - 3s 9ms/step - loss: 0.3737 - accuracy: 0.8703 - val_loss: 0.9301 - val_accuracy: 0.7884\n",
            "Epoch 35/40\n",
            "313/313 [==============================] - 2s 6ms/step - loss: 0.3711 - accuracy: 0.8713 - val_loss: 0.9464 - val_accuracy: 0.7886\n",
            "Epoch 36/40\n",
            "313/313 [==============================] - 2s 6ms/step - loss: 0.3545 - accuracy: 0.8771 - val_loss: 0.9712 - val_accuracy: 0.7834\n",
            "Epoch 37/40\n",
            "313/313 [==============================] - 2s 6ms/step - loss: 0.3483 - accuracy: 0.8788 - val_loss: 0.9568 - val_accuracy: 0.7987\n",
            "Epoch 38/40\n",
            "313/313 [==============================] - 2s 6ms/step - loss: 0.3284 - accuracy: 0.8849 - val_loss: 0.9581 - val_accuracy: 0.8028\n",
            "Epoch 39/40\n",
            "313/313 [==============================] - 2s 8ms/step - loss: 0.3251 - accuracy: 0.8881 - val_loss: 0.9836 - val_accuracy: 0.7969\n",
            "Epoch 40/40\n",
            "313/313 [==============================] - 2s 7ms/step - loss: 0.3159 - accuracy: 0.8899 - val_loss: 1.0147 - val_accuracy: 0.7940\n"
          ]
        }
      ]
    },
    {
      "cell_type": "markdown",
      "source": [
        "# 2.3. Exercise\n",
        "Based on the modifications above, and by any further modifications (e.g. more layers, less layers, more neurons/layer, etc.) to the model design, find a combination that is able to achieve **validation accuracy, that is higher than 53%**.\n"
      ],
      "metadata": {
        "id": "j1tGVPdD-pp3"
      }
    },
    {
      "cell_type": "code",
      "source": [
        "es = EarlyStopping(monitor='val_accuracy', patience=10, restore_best_weights=True)"
      ],
      "metadata": {
        "id": "5dBQxJHIHrbd"
      },
      "execution_count": 83,
      "outputs": []
    },
    {
      "cell_type": "code",
      "source": [
        "# model definition with relu\n",
        "model = Sequential()\n",
        "model.add(Dense(128, activation='selu', kernel_initializer='glorot_uniform', input_shape=(flattened_dim,)))\n",
        "model.add(Dropout(0.2))\n",
        "model.add(Dense(128, activation='selu', kernel_initializer='glorot_uniform'))\n",
        "model.add(Dense(64,activation='selu', kernel_initializer='glorot_uniform'))\n",
        "model.add(Dense(nb_classes, activation='softmax'))\n",
        "\n",
        "# loss function and optimizer\n",
        "model.compile(loss='categorical_crossentropy', optimizer='adam', metrics=['accuracy'])"
      ],
      "metadata": {
        "id": "PuxHOqLt-3Nd"
      },
      "execution_count": 95,
      "outputs": []
    },
    {
      "cell_type": "code",
      "source": [
        "# training\n",
        "network_history = model.fit(X_train, Y_train,\n",
        "                            validation_data=(X_valid,Y_valid),\n",
        "                            batch_size=128,\n",
        "                            epochs=40,\n",
        "                            verbose=1,\n",
        "                            callbacks=[es],)"
      ],
      "metadata": {
        "id": "u8tFNCNVHyt9",
        "colab": {
          "base_uri": "https://localhost:8080/"
        },
        "outputId": "107979af-2893-41ba-9100-89daa0b27a27"
      },
      "execution_count": 96,
      "outputs": [
        {
          "output_type": "stream",
          "name": "stdout",
          "text": [
            "Epoch 1/40\n",
            "313/313 [==============================] - 6s 12ms/step - loss: 1.9816 - accuracy: 0.3465 - val_loss: 1.5905 - val_accuracy: 0.4396\n",
            "Epoch 2/40\n",
            "313/313 [==============================] - 2s 6ms/step - loss: 1.6365 - accuracy: 0.4249 - val_loss: 1.4514 - val_accuracy: 0.4858\n",
            "Epoch 3/40\n",
            "313/313 [==============================] - 2s 8ms/step - loss: 1.5222 - accuracy: 0.4601 - val_loss: 1.3898 - val_accuracy: 0.5073\n",
            "Epoch 4/40\n",
            "313/313 [==============================] - 2s 6ms/step - loss: 1.4468 - accuracy: 0.4837 - val_loss: 1.3380 - val_accuracy: 0.5210\n",
            "Epoch 5/40\n",
            "313/313 [==============================] - 3s 9ms/step - loss: 1.3928 - accuracy: 0.5021 - val_loss: 1.2833 - val_accuracy: 0.5397\n",
            "Epoch 6/40\n",
            "313/313 [==============================] - 2s 8ms/step - loss: 1.3484 - accuracy: 0.5208 - val_loss: 1.2614 - val_accuracy: 0.5531\n",
            "Epoch 7/40\n",
            "313/313 [==============================] - 2s 6ms/step - loss: 1.3151 - accuracy: 0.5303 - val_loss: 1.2446 - val_accuracy: 0.5583\n",
            "Epoch 8/40\n",
            "313/313 [==============================] - 2s 6ms/step - loss: 1.2869 - accuracy: 0.5404 - val_loss: 1.1934 - val_accuracy: 0.5756\n",
            "Epoch 9/40\n",
            "313/313 [==============================] - 2s 6ms/step - loss: 1.2590 - accuracy: 0.5514 - val_loss: 1.1718 - val_accuracy: 0.5863\n",
            "Epoch 10/40\n",
            "313/313 [==============================] - 2s 7ms/step - loss: 1.2325 - accuracy: 0.5590 - val_loss: 1.1416 - val_accuracy: 0.6004\n",
            "Epoch 11/40\n",
            "313/313 [==============================] - 3s 9ms/step - loss: 1.2090 - accuracy: 0.5705 - val_loss: 1.1113 - val_accuracy: 0.6096\n",
            "Epoch 12/40\n",
            "313/313 [==============================] - 2s 6ms/step - loss: 1.1839 - accuracy: 0.5757 - val_loss: 1.1080 - val_accuracy: 0.6108\n",
            "Epoch 13/40\n",
            "313/313 [==============================] - 2s 6ms/step - loss: 1.1625 - accuracy: 0.5863 - val_loss: 1.0807 - val_accuracy: 0.6205\n",
            "Epoch 14/40\n",
            "313/313 [==============================] - 2s 6ms/step - loss: 1.1501 - accuracy: 0.5874 - val_loss: 1.0623 - val_accuracy: 0.6277\n",
            "Epoch 15/40\n",
            "313/313 [==============================] - 3s 8ms/step - loss: 1.1280 - accuracy: 0.5989 - val_loss: 1.0442 - val_accuracy: 0.6353\n",
            "Epoch 16/40\n",
            "313/313 [==============================] - 3s 8ms/step - loss: 1.1058 - accuracy: 0.6035 - val_loss: 1.0295 - val_accuracy: 0.6419\n",
            "Epoch 17/40\n",
            "313/313 [==============================] - 2s 6ms/step - loss: 1.0955 - accuracy: 0.6090 - val_loss: 1.0143 - val_accuracy: 0.6446\n",
            "Epoch 18/40\n",
            "313/313 [==============================] - 2s 6ms/step - loss: 1.0758 - accuracy: 0.6115 - val_loss: 1.0057 - val_accuracy: 0.6502\n",
            "Epoch 19/40\n",
            "313/313 [==============================] - 2s 6ms/step - loss: 1.0530 - accuracy: 0.6232 - val_loss: 1.0004 - val_accuracy: 0.6525\n",
            "Epoch 20/40\n",
            "313/313 [==============================] - 3s 8ms/step - loss: 1.0466 - accuracy: 0.6276 - val_loss: 0.9819 - val_accuracy: 0.6579\n",
            "Epoch 21/40\n",
            "313/313 [==============================] - 2s 8ms/step - loss: 1.0320 - accuracy: 0.6302 - val_loss: 0.9566 - val_accuracy: 0.6701\n",
            "Epoch 22/40\n",
            "313/313 [==============================] - 3s 9ms/step - loss: 1.0164 - accuracy: 0.6363 - val_loss: 0.9541 - val_accuracy: 0.6702\n",
            "Epoch 23/40\n",
            "313/313 [==============================] - 2s 8ms/step - loss: 1.0036 - accuracy: 0.6418 - val_loss: 0.9407 - val_accuracy: 0.6758\n",
            "Epoch 24/40\n",
            "313/313 [==============================] - 3s 8ms/step - loss: 0.9924 - accuracy: 0.6450 - val_loss: 0.9327 - val_accuracy: 0.6800\n",
            "Epoch 25/40\n",
            "313/313 [==============================] - 3s 9ms/step - loss: 0.9816 - accuracy: 0.6503 - val_loss: 0.9283 - val_accuracy: 0.6803\n",
            "Epoch 26/40\n",
            "313/313 [==============================] - 3s 10ms/step - loss: 0.9728 - accuracy: 0.6544 - val_loss: 0.9303 - val_accuracy: 0.6819\n",
            "Epoch 27/40\n",
            "313/313 [==============================] - 3s 8ms/step - loss: 0.9566 - accuracy: 0.6573 - val_loss: 0.9126 - val_accuracy: 0.6899\n",
            "Epoch 28/40\n",
            "313/313 [==============================] - 3s 9ms/step - loss: 0.9392 - accuracy: 0.6649 - val_loss: 0.9083 - val_accuracy: 0.6904\n",
            "Epoch 29/40\n",
            "313/313 [==============================] - 3s 8ms/step - loss: 0.9307 - accuracy: 0.6665 - val_loss: 0.8903 - val_accuracy: 0.6992\n",
            "Epoch 30/40\n",
            "313/313 [==============================] - 2s 7ms/step - loss: 0.9234 - accuracy: 0.6716 - val_loss: 0.8957 - val_accuracy: 0.6988\n",
            "Epoch 31/40\n",
            "313/313 [==============================] - 3s 9ms/step - loss: 0.9162 - accuracy: 0.6737 - val_loss: 0.8846 - val_accuracy: 0.6999\n",
            "Epoch 32/40\n",
            "313/313 [==============================] - 2s 6ms/step - loss: 0.9015 - accuracy: 0.6789 - val_loss: 0.8721 - val_accuracy: 0.7088\n",
            "Epoch 33/40\n",
            "313/313 [==============================] - 3s 8ms/step - loss: 0.8927 - accuracy: 0.6769 - val_loss: 0.8459 - val_accuracy: 0.7196\n",
            "Epoch 34/40\n",
            "313/313 [==============================] - 2s 6ms/step - loss: 0.8852 - accuracy: 0.6840 - val_loss: 0.8479 - val_accuracy: 0.7190\n",
            "Epoch 35/40\n",
            "313/313 [==============================] - 2s 6ms/step - loss: 0.8719 - accuracy: 0.6879 - val_loss: 0.8388 - val_accuracy: 0.7201\n",
            "Epoch 36/40\n",
            "313/313 [==============================] - 3s 9ms/step - loss: 0.8687 - accuracy: 0.6882 - val_loss: 0.8374 - val_accuracy: 0.7215\n",
            "Epoch 37/40\n",
            "313/313 [==============================] - 2s 6ms/step - loss: 0.8576 - accuracy: 0.6933 - val_loss: 0.8485 - val_accuracy: 0.7177\n",
            "Epoch 38/40\n",
            "313/313 [==============================] - 2s 8ms/step - loss: 0.8529 - accuracy: 0.6952 - val_loss: 0.8122 - val_accuracy: 0.7330\n",
            "Epoch 39/40\n",
            "313/313 [==============================] - 2s 8ms/step - loss: 0.8340 - accuracy: 0.7016 - val_loss: 0.8258 - val_accuracy: 0.7270\n",
            "Epoch 40/40\n",
            "313/313 [==============================] - 2s 8ms/step - loss: 0.8395 - accuracy: 0.6976 - val_loss: 0.7969 - val_accuracy: 0.7403\n"
          ]
        }
      ]
    },
    {
      "cell_type": "markdown",
      "source": [
        "# 3. Evaluation on test data and inference\n",
        "At this point, we will perform a basic evaluation and inference. With the model.evaluate function, the same metrics are calculated, that were used during training:"
      ],
      "metadata": {
        "id": "2FtKp-a2-A9m"
      }
    },
    {
      "cell_type": "code",
      "source": [
        "print(model.evaluate(X_test, Y_test))"
      ],
      "metadata": {
        "id": "I3_9wgDREUna",
        "colab": {
          "base_uri": "https://localhost:8080/"
        },
        "outputId": "12bb46f7-1730-4bad-b5be-0c861e191a16"
      },
      "execution_count": 97,
      "outputs": [
        {
          "output_type": "stream",
          "name": "stdout",
          "text": [
            "313/313 [==============================] - 1s 2ms/step - loss: 1.4942 - accuracy: 0.5255\n",
            "[1.4942376613616943, 0.5254999995231628]\n"
          ]
        }
      ]
    },
    {
      "cell_type": "markdown",
      "source": [
        "we would like to see similar values, as in the validation set. If those are close to each other, then the generalization ability of the model is good (in case of an independent test-set)."
      ],
      "metadata": {
        "id": "ECHguBFtGL7f"
      }
    },
    {
      "cell_type": "markdown",
      "source": [
        "## 3.1. Exercise\n",
        "Predict the class of the first 10 elements in the test set, and compare the predicted values with the actual, target values in the test set. Hints:\n",
        "* you can use [model.predict](https://www.activestate.com/resources/quick-reads/how-to-use-a-model-to-do-predictions-with-keras/) for prediction\n",
        "* from the output you can select the largest value with the [argmax() function of Numpy](https://stackoverflow.com/questions/62358642/convert-one-hot-encoding-back-to-number-label). As there are multiple values, you have to call it with axis=1 parameter.\n",
        "* it is enought to compare the predictions and the targets by printing the values out and inspecting them."
      ],
      "metadata": {
        "id": "0Io4zYJeHjz6"
      }
    },
    {
      "cell_type": "code",
      "source": [
        "preds = model.predict(X_test[:10])\n",
        "preds_dense = np.argmax(preds, axis=1)"
      ],
      "metadata": {
        "id": "XEEyU7exILqF",
        "colab": {
          "base_uri": "https://localhost:8080/"
        },
        "outputId": "4a988234-1312-4df8-ef7a-4f3bb2c4228c"
      },
      "execution_count": 99,
      "outputs": [
        {
          "output_type": "stream",
          "name": "stdout",
          "text": [
            "1/1 [==============================] - 0s 401ms/step\n"
          ]
        }
      ]
    },
    {
      "cell_type": "markdown",
      "source": [
        "Before comparision, you have to convert back the one-hot encoded target values the same way, as you converted the output of the neural network to class values with argmax() function."
      ],
      "metadata": {
        "id": "seZTEFI-I5cZ"
      }
    },
    {
      "cell_type": "code",
      "source": [
        "print(\"Target labels:\", np.argmax(Y_test[:10],axis=1))\n",
        "print(\"Predicted labels:\", preds_dense)"
      ],
      "metadata": {
        "id": "PHLvoMuIIkJ6",
        "colab": {
          "base_uri": "https://localhost:8080/"
        },
        "outputId": "46955fb4-a8db-4acf-fcc0-494e79009061"
      },
      "execution_count": 100,
      "outputs": [
        {
          "output_type": "stream",
          "name": "stdout",
          "text": [
            "Target labels: [3 8 8 0 6 6 1 6 3 1]\n",
            "Predicted labels: [3 8 9 8 4 6 3 6 2 1]\n"
          ]
        }
      ]
    }
  ]
}