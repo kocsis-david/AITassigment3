{
  "nbformat": 4,
  "nbformat_minor": 0,
  "metadata": {
    "anaconda-cloud": {},
    "kernelspec": {
      "display_name": "Python 3",
      "language": "python",
      "name": "python3"
    },
    "language_info": {
      "codemirror_mode": {
        "name": "ipython",
        "version": 3
      },
      "file_extension": ".py",
      "mimetype": "text/x-python",
      "name": "python",
      "nbconvert_exporter": "python",
      "pygments_lexer": "ipython3",
      "version": "3.6.6"
    },
    "colab": {
      "provenance": [],
      "include_colab_link": true
    },
    "accelerator": "GPU"
  },
  "cells": [
    {
      "cell_type": "markdown",
      "metadata": {
        "id": "view-in-github",
        "colab_type": "text"
      },
      "source": [
        "<a href=\"https://colab.research.google.com/github/kocsis-david/AITProjectwork/blob/main/Copy_of_04_AIT_MLP_CIFAR10_exercise.ipynb\" target=\"_parent\"><img src=\"https://colab.research.google.com/assets/colab-badge.svg\" alt=\"Open In Colab\"/></a>"
      ]
    },
    {
      "cell_type": "markdown",
      "metadata": {
        "id": "cW-EyI5Lxpqi"
      },
      "source": [
        "# Copyright\n",
        "\n",
        "<PRE>\n",
        "Copyright (c) 2024 Bálint Gyires-Tóth - All Rights Reserved\n",
        "You may use and modify this code for research and development purpuses.\n",
        "Using this code for educational purposes (self-paced or instructor led) without the permission of the author is prohibited.\n",
        "</PRE>"
      ]
    },
    {
      "cell_type": "markdown",
      "source": [
        "# Example of data exploration, modeling, regulartion and prediction\n",
        "Our exercise today involves loading a standard dataset using TensorFlow Keras API, exploring the data, building a simple neural network, and evaluating the effects of basic methods (activation functions, regularization, weight initialization, etc.). We then perform predictions on the test set and inspect the results."
      ],
      "metadata": {
        "id": "3EX4cCa4WKJu"
      }
    },
    {
      "cell_type": "markdown",
      "source": [
        "# 1. Data\n",
        "The dataset we will use is the well-known CIFAR10 (Canadian Institute For Advanced Research). Explore the details on the Keras website first: https://keras.io/api/datasets/cifar10/\n",
        "\n",
        "After you explored the basic features of the data, let's load it into the memory and explore the shapes:"
      ],
      "metadata": {
        "id": "yY9fztIeWIKt"
      }
    },
    {
      "cell_type": "code",
      "source": [
        "from tensorflow.keras.datasets import cifar10\n",
        "from tensorflow.keras.utils import to_categorical\n",
        "import numpy as np"
      ],
      "metadata": {
        "id": "giRZKTjzX_7l"
      },
      "execution_count": 1,
      "outputs": []
    },
    {
      "cell_type": "code",
      "source": [
        "(X_train, Y_train), (X_test, Y_test) = cifar10.load_data()"
      ],
      "metadata": {
        "id": "bez7q0eiWQCK",
        "colab": {
          "base_uri": "https://localhost:8080/"
        },
        "outputId": "ee5fb1cb-d91f-4a26-dcd5-93e56d7f224d"
      },
      "execution_count": 2,
      "outputs": [
        {
          "output_type": "stream",
          "name": "stdout",
          "text": [
            "Downloading data from https://www.cs.toronto.edu/~kriz/cifar-10-python.tar.gz\n",
            "170498071/170498071 [==============================] - 3s 0us/step\n"
          ]
        }
      ]
    },
    {
      "cell_type": "code",
      "source": [
        "print(X_train.shape)\n",
        "print(X_test.shape)\n",
        "print(Y_train.shape)\n",
        "print(Y_test.shape)"
      ],
      "metadata": {
        "id": "2tJoRq5wXywi",
        "colab": {
          "base_uri": "https://localhost:8080/"
        },
        "outputId": "18c56230-b3d1-4de6-fd11-9a272e171f98"
      },
      "execution_count": 3,
      "outputs": [
        {
          "output_type": "stream",
          "name": "stdout",
          "text": [
            "(50000, 32, 32, 3)\n",
            "(10000, 32, 32, 3)\n",
            "(50000, 1)\n",
            "(10000, 1)\n"
          ]
        }
      ]
    },
    {
      "cell_type": "markdown",
      "source": [
        "## 1.1. Exercise\n",
        "Display the first ten images of the training data. Hints:\n",
        "* Axis 0 refers to the separate images, e.g. X_train[0]\n",
        "* You can use the [Matplotlib Pyplot imshow function](https://matplotlib.org/stable/api/_as_gen/matplotlib.pyplot.imshow.html) for displaying the image. Just don't forget to import Plotly first!\n",
        "* A corresponding example, but you have to modify the code for your purpose: https://stackoverflow.com/questions/46615554/how-to-display-multiple-images-in-one-figure-correctly"
      ],
      "metadata": {
        "id": "zTCSGFyDlNvf"
      }
    },
    {
      "cell_type": "code",
      "source": [
        "import matplotlib.pyplot as plt\n",
        "\n",
        "import matplotlib.pyplot as plt\n",
        "\n",
        "fig, ax = plt.subplots(1, 10, figsize=(20, 20))\n",
        "for i in range(10):\n",
        "    ax[i].imshow(X_train[i])\n",
        "    ax[i].axis('off')\n",
        "plt.show()"
      ],
      "metadata": {
        "id": "hIQhHTppmBdO",
        "colab": {
          "base_uri": "https://localhost:8080/",
          "height": 145
        },
        "outputId": "cd4e113e-a076-4d03-a3b6-6531b244b14b"
      },
      "execution_count": 4,
      "outputs": [
        {
          "output_type": "display_data",
          "data": {
            "text/plain": [
              "<Figure size 2000x2000 with 10 Axes>"
            ],
            "image/png": "[encoded data removed]"
          },
          "metadata": {}
        }
      ]
    },
    {
      "cell_type": "markdown",
      "source": [
        "Print the corresponding labels of the displayed images from the target variable (Y_train):"
      ],
      "metadata": {
        "id": "FAQkUWlmm-bc"
      }
    },
    {
      "cell_type": "code",
      "source": [
        "print(Y_train[:10]);"
      ],
      "metadata": {
        "id": "AkOrWzghnJ78",
        "colab": {
          "base_uri": "https://localhost:8080/"
        },
        "outputId": "d387a5cb-fadc-4a59-c13c-4c07c6fb69d7"
      },
      "execution_count": 5,
      "outputs": [
        {
          "output_type": "stream",
          "name": "stdout",
          "text": [
            "[[6]\n",
            " [9]\n",
            " [9]\n",
            " [4]\n",
            " [1]\n",
            " [1]\n",
            " [2]\n",
            " [7]\n",
            " [8]\n",
            " [3]]\n"
          ]
        }
      ]
    },
    {
      "cell_type": "markdown",
      "source": [
        "## 1.2. Exercise\n",
        "We will train a Multi-Layer Perceptron (MLP), which requires a 2 dimensional input: 0th axis refers to the datapoints (i.e. images), the 1th dimens to the input. As images are 3 dimensional (width, height, color channels), you have to reshape the images into vectors. We also call this flattening.\n",
        "\n",
        "In order to do so, calculate the size of the equivalent 1D vector of the image:"
      ],
      "metadata": {
        "id": "VX24g5FstsRU"
      }
    },
    {
      "cell_type": "code",
      "source": [
        "flattened_dim = (X_train.shape[1]*X_train.shape[2]*X_train.shape[3])"
      ],
      "metadata": {
        "id": "hdoMyxHzuXZG"
      },
      "execution_count": 6,
      "outputs": []
    },
    {
      "cell_type": "markdown",
      "source": [
        "After you calculated it, we can reshape the images, and covert the integer arrays into float arrays -- which are needed for the neural networks as input. Hint:\n",
        "* in the [reshape() function of Numpy](https://www.w3schools.com/python/numpy/numpy_array_reshape.asp) you can use -1 for one axis, to automatically calculate that value."
      ],
      "metadata": {
        "id": "WbqXJUSFubeC"
      }
    },
    {
      "cell_type": "code",
      "source": [
        "# reshape 3D tensors to 2D tensors\n",
        "X_train = X_train.reshape((-1,flattened_dim))\n",
        "X_test = X_test.reshape((-1,flattened_dim))\n",
        "\n",
        "# it is in int8 format, the neural network requires float32\n",
        "X_train = X_train.astype(np.float32)\n",
        "X_test = X_test.astype(np.float32)"
      ],
      "metadata": {
        "id": "vukOcBM0XzSj"
      },
      "execution_count": 7,
      "outputs": []
    },
    {
      "cell_type": "markdown",
      "source": [
        "## 1.3. Exercise\n",
        "As the next step, let's split the training data into training and validation data. 80% of the original training data should be the final training data, and 20% the validation.\n",
        "You should use Numpy indexing to select the first 80% of X_train as final X_train, and the last 20% as X_valid. Hints:\n",
        "* https://datascienceparichay.com/article/numpy-array-first-n-rows/\n",
        "* https://datascienceparichay.com/article/numpy-array-last-n-rows/"
      ],
      "metadata": {
        "id": "DO79AdIdvVfD"
      }
    },
    {
      "cell_type": "code",
      "source": [
        "train_ratio  = 0.8\n",
        "train_length = int(X_train.shape[0] * train_ratio)\n",
        "train_split  = X_train.shape[0] - train_length\n",
        "X_valid, Y_valid = X_train[:train_split], Y_train[:train_split]\n",
        "X_train, Y_train = X_train[train_split:], Y_train[train_split:]\n"
      ],
      "metadata": {
        "id": "mRwuWxxIxLgN"
      },
      "execution_count": 8,
      "outputs": []
    },
    {
      "cell_type": "markdown",
      "source": [
        "## 1.4. Exercise\n",
        "As the last step of input data preparation, the data should be standardized. Calculate the mean and variance of the training data (elementvise -- so for each value of the flattened image you should get a mean and variance for the training data along 0th axis). Hint:\n",
        "* https://stackoverflow.com/questions/70626231/how-to-calculate-mean-variance-standard-deviation-per-index-of-array"
      ],
      "metadata": {
        "id": "z05y_QWDxWER"
      }
    },
    {
      "cell_type": "code",
      "source": [
        "mean =np.mean(X_train)\n",
        "std  =np.std(X_train)"
      ],
      "metadata": {
        "id": "TSZbvWCBx8Ea"
      },
      "execution_count": 9,
      "outputs": []
    },
    {
      "cell_type": "markdown",
      "source": [
        "Next, use the resulting values to standardize the training, validation and test data by substracting the mean and dividing the result with the standard deviation."
      ],
      "metadata": {
        "id": "6WRHKkkjyN1S"
      }
    },
    {
      "cell_type": "code",
      "source": [
        "X_train = (X_train-mean)/std\n",
        "X_valid = (X_valid-mean)/std\n",
        "X_test  = (X_test-mean)/std"
      ],
      "metadata": {
        "id": "2ESLP1EIyB2J"
      },
      "execution_count": 10,
      "outputs": []
    },
    {
      "cell_type": "markdown",
      "source": [
        "## 1.5. Exercise\n",
        "And as the last step, convert the dense representation of the classes (i.e. 0,1,2,3...9) to one-hot encoding (0 = [1 0 0 0 0 0 0 0 0 0], 1 = [0 1 0 0 0 0 0 0 0 0] ... 9 = [0 0 0 0 0 0 0 0 0 1]). To do this, first, calculate the number of unique elements in the target training data. Hints:\n",
        "* use the [unique() function](https://numpy.org/doc/stable/reference/generated/numpy.unique.html) of Numpy to list the unique elements\n",
        "* you can count the number of elements in a list with the [len() function](https://www.w3schools.com/python/ref_func_len.asp)"
      ],
      "metadata": {
        "id": "ooHCnUin7r4o"
      }
    },
    {
      "cell_type": "code",
      "source": [
        "nb_classes =len(np.unique(Y_train))"
      ],
      "metadata": {
        "id": "i0LAO9cs8KEE"
      },
      "execution_count": 11,
      "outputs": []
    },
    {
      "cell_type": "markdown",
      "source": [
        "Doublecheck, if the same number of classes exists in the validation and test target data:"
      ],
      "metadata": {
        "id": "BvM6XhGe8JU9"
      }
    },
    {
      "cell_type": "code",
      "source": [
        "print(\"Validation data has the same number of classes, as the training data:\", nb_classes == len(np.unique(Y_valid)))\n",
        "print(\"Test data has the same number of classes, as the training data:\", nb_classes == len(np.unique(Y_test)))"
      ],
      "metadata": {
        "id": "eZFNSsyx_Py2",
        "colab": {
          "base_uri": "https://localhost:8080/"
        },
        "outputId": "62cade04-0eea-4749-a333-7dabd43d34aa"
      },
      "execution_count": 12,
      "outputs": [
        {
          "output_type": "stream",
          "name": "stdout",
          "text": [
            "Validation data has the same number of classes, as the training data: True\n",
            "Test data has the same number of classes, as the training data: True\n"
          ]
        }
      ]
    },
    {
      "cell_type": "markdown",
      "source": [
        "And convert the dense representation into one-hot encoding. Hint:\n",
        "* use the [to_categorical function](https://www.tensorflow.org/api_docs/python/tf/keras/utils/to_categorical) with the calculated nb_classes\n"
      ],
      "metadata": {
        "id": "mJM-iBmR8dLe"
      }
    },
    {
      "cell_type": "code",
      "source": [
        "Y_train = to_categorical(Y_train, nb_classes)\n",
        "Y_valid = to_categorical(Y_valid, nb_classes)\n",
        "Y_test  = to_categorical(Y_test, nb_classes)"
      ],
      "metadata": {
        "id": "xwZ4OJ6I8lba"
      },
      "execution_count": 13,
      "outputs": []
    },
    {
      "cell_type": "markdown",
      "source": [
        "## Final check of data preparation\n",
        "Now, lets check the shapes and mean and standard deviation of the training, validation and test data."
      ],
      "metadata": {
        "id": "LshN2OSsv3TZ"
      }
    },
    {
      "cell_type": "code",
      "source": [
        "print(\"Shapes of the training, validation and test input data:\", X_train.shape, X_valid.shape, X_test.shape)\n",
        "print(\"Shapes of the training, validation and test output data:\", Y_train.shape, Y_valid.shape, Y_test.shape)\n",
        "print(\"Mean values of the training, validation and test input data:\", X_train.mean(), X_valid.mean(), X_test.mean())\n",
        "print(\"Standard deviation of the training, validation and test input data:\", X_train.std(), X_valid.std(), X_test.std())"
      ],
      "metadata": {
        "id": "O_jdJVcvX0vi",
        "colab": {
          "base_uri": "https://localhost:8080/"
        },
        "outputId": "263e0558-cea6-4e71-9e8e-dece5c9142a5"
      },
      "execution_count": 14,
      "outputs": [
        {
          "output_type": "stream",
          "name": "stdout",
          "text": [
            "Shapes of the training, validation and test input data: (40000, 3072) (10000, 3072) (10000, 3072)\n",
            "Shapes of the training, validation and test output data: (40000, 10) (10000, 10) (10000, 10)\n",
            "Mean values of the training, validation and test input data: 3.9108672e-06 0.00650789 0.01412415\n",
            "Standard deviation of the training, validation and test input data: 1.0000006 1.0046989 0.99955535\n"
          ]
        }
      ]
    },
    {
      "cell_type": "markdown",
      "source": [
        "Don't worry, if the mean and standard deviation of the validation and test data are not exactly 0 and 1, but these might be very mear to it (e.g. 0.01 mean, 0.99 variance)."
      ],
      "metadata": {
        "id": "5GtAOOoezmZY"
      }
    },
    {
      "cell_type": "markdown",
      "metadata": {
        "id": "cJ14oyZExpqj"
      },
      "source": [
        "# 2. Training"
      ]
    },
    {
      "cell_type": "markdown",
      "metadata": {
        "id": "s4ZXYRMBxpql"
      },
      "source": [
        "Let us begin with a simple example of creating a small neural network without regularization and training it with actual data. The purpose of this is to provide you with an example as to how to proceed with the next exercise."
      ]
    },
    {
      "cell_type": "code",
      "source": [
        "# imports\n",
        "import numpy as np\n",
        "import matplotlib.pyplot as plt\n",
        "from tensorflow.keras.models import Sequential\n",
        "from tensorflow.keras.layers import Dense, Embedding, Flatten, Dropout\n",
        "from tensorflow.keras.initializers import HeNormal\n",
        "from tensorflow.keras.callbacks import EarlyStopping"
      ],
      "metadata": {
        "id": "6-8Q6ll7ZDgq"
      },
      "execution_count": 15,
      "outputs": []
    },
    {
      "cell_type": "code",
      "source": [
        "# model definition\n",
        "model = Sequential()\n",
        "model.add(Dense(128, activation='tanh', input_shape=(flattened_dim,)))\n",
        "model.add(Dense(128, activation='tanh'))\n",
        "model.add(Dense(nb_classes, activation='softmax'))\n",
        "\n",
        "# loss function and optimizer\n",
        "model.compile(loss='categorical_crossentropy', optimizer='adam', metrics=['accuracy'])"
      ],
      "metadata": {
        "id": "pke6w3CD8DHp"
      },
      "execution_count": 16,
      "outputs": []
    },
    {
      "cell_type": "code",
      "metadata": {
        "id": "CZbOR76QxprC",
        "colab": {
          "base_uri": "https://localhost:8080/"
        },
        "outputId": "017055b5-1034-4015-a4eb-201e4e662350"
      },
      "source": [
        "# training\n",
        "network_history = model.fit(X_train, Y_train,\n",
        "                            validation_data=(X_valid,Y_valid),\n",
        "                            batch_size=128,\n",
        "                            epochs=40,\n",
        "                            verbose=1)"
      ],
      "execution_count": 17,
      "outputs": [
        {
          "output_type": "stream",
          "name": "stdout",
          "text": [
            "Epoch 1/40\n",
            "313/313 [==============================] - 7s 10ms/step - loss: 1.8246 - accuracy: 0.3632 - val_loss: 1.7401 - val_accuracy: 0.3908\n",
            "Epoch 2/40\n",
            "313/313 [==============================] - 2s 7ms/step - loss: 1.6964 - accuracy: 0.4117 - val_loss: 1.6986 - val_accuracy: 0.4070\n",
            "Epoch 3/40\n",
            "313/313 [==============================] - 2s 6ms/step - loss: 1.6365 - accuracy: 0.4344 - val_loss: 1.6582 - val_accuracy: 0.4210\n",
            "Epoch 4/40\n",
            "313/313 [==============================] - 2s 6ms/step - loss: 1.5958 - accuracy: 0.4489 - val_loss: 1.6454 - val_accuracy: 0.4214\n",
            "Epoch 5/40\n",
            "313/313 [==============================] - 1s 4ms/step - loss: 1.5517 - accuracy: 0.4646 - val_loss: 1.6234 - val_accuracy: 0.4363\n",
            "Epoch 6/40\n",
            "313/313 [==============================] - 1s 4ms/step - loss: 1.5184 - accuracy: 0.4739 - val_loss: 1.6153 - val_accuracy: 0.4427\n",
            "Epoch 7/40\n",
            "313/313 [==============================] - 1s 4ms/step - loss: 1.4961 - accuracy: 0.4826 - val_loss: 1.5875 - val_accuracy: 0.4468\n",
            "Epoch 8/40\n",
            "313/313 [==============================] - 1s 4ms/step - loss: 1.4694 - accuracy: 0.4909 - val_loss: 1.5929 - val_accuracy: 0.4472\n",
            "Epoch 9/40\n",
            "313/313 [==============================] - 1s 4ms/step - loss: 1.4402 - accuracy: 0.5007 - val_loss: 1.5866 - val_accuracy: 0.4478\n",
            "Epoch 10/40\n",
            "313/313 [==============================] - 1s 4ms/step - loss: 1.4219 - accuracy: 0.5078 - val_loss: 1.5788 - val_accuracy: 0.4530\n",
            "Epoch 11/40\n",
            "313/313 [==============================] - 1s 4ms/step - loss: 1.3938 - accuracy: 0.5176 - val_loss: 1.5707 - val_accuracy: 0.4553\n",
            "Epoch 12/40\n",
            "313/313 [==============================] - 2s 5ms/step - loss: 1.3762 - accuracy: 0.5216 - val_loss: 1.5788 - val_accuracy: 0.4492\n",
            "Epoch 13/40\n",
            "313/313 [==============================] - 2s 5ms/step - loss: 1.3462 - accuracy: 0.5329 - val_loss: 1.5616 - val_accuracy: 0.4601\n",
            "Epoch 14/40\n",
            "313/313 [==============================] - 1s 4ms/step - loss: 1.3314 - accuracy: 0.5362 - val_loss: 1.5677 - val_accuracy: 0.4574\n",
            "Epoch 15/40\n",
            "313/313 [==============================] - 1s 4ms/step - loss: 1.3059 - accuracy: 0.5470 - val_loss: 1.5581 - val_accuracy: 0.4593\n",
            "Epoch 16/40\n",
            "313/313 [==============================] - 1s 4ms/step - loss: 1.2839 - accuracy: 0.5533 - val_loss: 1.5577 - val_accuracy: 0.4667\n",
            "Epoch 17/40\n",
            "313/313 [==============================] - 1s 4ms/step - loss: 1.2676 - accuracy: 0.5607 - val_loss: 1.5673 - val_accuracy: 0.4583\n",
            "Epoch 18/40\n",
            "313/313 [==============================] - 1s 4ms/step - loss: 1.2478 - accuracy: 0.5671 - val_loss: 1.5840 - val_accuracy: 0.4572\n",
            "Epoch 19/40\n",
            "313/313 [==============================] - 1s 4ms/step - loss: 1.2337 - accuracy: 0.5708 - val_loss: 1.5677 - val_accuracy: 0.4661\n",
            "Epoch 20/40\n",
            "313/313 [==============================] - 1s 4ms/step - loss: 1.2077 - accuracy: 0.5785 - val_loss: 1.5869 - val_accuracy: 0.4607\n",
            "Epoch 21/40\n",
            "313/313 [==============================] - 2s 5ms/step - loss: 1.1991 - accuracy: 0.5852 - val_loss: 1.5819 - val_accuracy: 0.4617\n",
            "Epoch 22/40\n",
            "313/313 [==============================] - 1s 4ms/step - loss: 1.1757 - accuracy: 0.5929 - val_loss: 1.5783 - val_accuracy: 0.4656\n",
            "Epoch 23/40\n",
            "313/313 [==============================] - 1s 4ms/step - loss: 1.1521 - accuracy: 0.5994 - val_loss: 1.6038 - val_accuracy: 0.4634\n",
            "Epoch 24/40\n",
            "313/313 [==============================] - 1s 4ms/step - loss: 1.1377 - accuracy: 0.6031 - val_loss: 1.5949 - val_accuracy: 0.4709\n",
            "Epoch 25/40\n",
            "313/313 [==============================] - 1s 4ms/step - loss: 1.1173 - accuracy: 0.6121 - val_loss: 1.6050 - val_accuracy: 0.4677\n",
            "Epoch 26/40\n",
            "313/313 [==============================] - 1s 4ms/step - loss: 1.1111 - accuracy: 0.6136 - val_loss: 1.6093 - val_accuracy: 0.4671\n",
            "Epoch 27/40\n",
            "313/313 [==============================] - 1s 4ms/step - loss: 1.0950 - accuracy: 0.6195 - val_loss: 1.6101 - val_accuracy: 0.4696\n",
            "Epoch 28/40\n",
            "313/313 [==============================] - 1s 4ms/step - loss: 1.0802 - accuracy: 0.6243 - val_loss: 1.6288 - val_accuracy: 0.4642\n",
            "Epoch 29/40\n",
            "313/313 [==============================] - 1s 5ms/step - loss: 1.0664 - accuracy: 0.6302 - val_loss: 1.6262 - val_accuracy: 0.4687\n",
            "Epoch 30/40\n",
            "313/313 [==============================] - 2s 5ms/step - loss: 1.0468 - accuracy: 0.6379 - val_loss: 1.6344 - val_accuracy: 0.4654\n",
            "Epoch 31/40\n",
            "313/313 [==============================] - 1s 4ms/step - loss: 1.0260 - accuracy: 0.6444 - val_loss: 1.6808 - val_accuracy: 0.4584\n",
            "Epoch 32/40\n",
            "313/313 [==============================] - 1s 4ms/step - loss: 1.0162 - accuracy: 0.6481 - val_loss: 1.6583 - val_accuracy: 0.4658\n",
            "Epoch 33/40\n",
            "313/313 [==============================] - 1s 4ms/step - loss: 1.0059 - accuracy: 0.6500 - val_loss: 1.6738 - val_accuracy: 0.4588\n",
            "Epoch 34/40\n",
            "313/313 [==============================] - 1s 4ms/step - loss: 0.9810 - accuracy: 0.6604 - val_loss: 1.6894 - val_accuracy: 0.4543\n",
            "Epoch 35/40\n",
            "313/313 [==============================] - 1s 4ms/step - loss: 0.9793 - accuracy: 0.6603 - val_loss: 1.6844 - val_accuracy: 0.4585\n",
            "Epoch 36/40\n",
            "313/313 [==============================] - 1s 4ms/step - loss: 0.9636 - accuracy: 0.6656 - val_loss: 1.6957 - val_accuracy: 0.4591\n",
            "Epoch 37/40\n",
            "313/313 [==============================] - 1s 4ms/step - loss: 0.9407 - accuracy: 0.6764 - val_loss: 1.7168 - val_accuracy: 0.4537\n",
            "Epoch 38/40\n",
            "313/313 [==============================] - 1s 5ms/step - loss: 0.9314 - accuracy: 0.6783 - val_loss: 1.7401 - val_accuracy: 0.4575\n",
            "Epoch 39/40\n",
            "313/313 [==============================] - 2s 5ms/step - loss: 0.9124 - accuracy: 0.6841 - val_loss: 1.7312 - val_accuracy: 0.4551\n",
            "Epoch 40/40\n",
            "313/313 [==============================] - 1s 4ms/step - loss: 0.8936 - accuracy: 0.6923 - val_loss: 1.7567 - val_accuracy: 0.4466\n"
          ]
        }
      ]
    },
    {
      "cell_type": "markdown",
      "metadata": {
        "id": "uFqhzV85xprJ"
      },
      "source": [
        "Let's plot the training and validation loss and accuracy curves:"
      ]
    },
    {
      "cell_type": "code",
      "metadata": {
        "id": "BYmXGkLCxprK",
        "colab": {
          "base_uri": "https://localhost:8080/",
          "height": 881
        },
        "outputId": "5c27df9a-d39c-4a08-af4e-6a7c1b7fbc0c"
      },
      "source": [
        "def plot_history(network_history):\n",
        "    plt.figure()\n",
        "    plt.xlabel('Epochs')\n",
        "    plt.ylabel('Loss')\n",
        "    plt.plot(network_history.history['loss'])\n",
        "    plt.plot(network_history.history['val_loss'])\n",
        "    plt.legend(['Training', 'Validation'])\n",
        "\n",
        "    plt.figure()\n",
        "    plt.xlabel('Epochs')\n",
        "    plt.ylabel('Accuracy')\n",
        "    plt.plot(network_history.history['accuracy'])\n",
        "    plt.plot(network_history.history['val_accuracy'])\n",
        "    plt.legend(['Training', 'Validation'], loc='lower right')\n",
        "    plt.show()\n",
        "\n",
        "plot_history(network_history)"
      ],
      "execution_count": 18,
      "outputs": [
        {
          "output_type": "display_data",
          "data": {
            "text/plain": [
              "<Figure size 640x480 with 1 Axes>"
            ],
            "image/png": "[encoded data removed]"
          },
          "metadata": {}
        },
        {
          "output_type": "display_data",
          "data": {
            "text/plain": [
              "<Figure size 640x480 with 1 Axes>"
            ],
            "image/png": "[encoded data removed]"
          },
          "metadata": {}
        }
      ]
    },
    {
      "cell_type": "markdown",
      "source": [
        "What do you think? Does it overfit?"
      ],
      "metadata": {
        "id": "tgG7QeXF-dx6"
      }
    },
    {
      "cell_type": "markdown",
      "metadata": {
        "id": "_Q9rIeBBxprO"
      },
      "source": [
        "# Inspecting the model"
      ]
    },
    {
      "cell_type": "code",
      "metadata": {
        "id": "6r2AmmoMxprP",
        "colab": {
          "base_uri": "https://localhost:8080/"
        },
        "outputId": "943bd67d-b84f-45a1-fbe8-9db3fb46cc36"
      },
      "source": [
        "model.summary()"
      ],
      "execution_count": 19,
      "outputs": [
        {
          "output_type": "stream",
          "name": "stdout",
          "text": [
            "Model: \"sequential\"\n",
            "_________________________________________________________________\n",
            " Layer (type)                Output Shape              Param #   \n",
            "=================================================================\n",
            " dense (Dense)               (None, 128)               393344    \n",
            "                                                                 \n",
            " dense_1 (Dense)             (None, 128)               16512     \n",
            "                                                                 \n",
            " dense_2 (Dense)             (None, 10)                1290      \n",
            "                                                                 \n",
            "=================================================================\n",
            "Total params: 411146 (1.57 MB)\n",
            "Trainable params: 411146 (1.57 MB)\n",
            "Non-trainable params: 0 (0.00 Byte)\n",
            "_________________________________________________________________\n"
          ]
        }
      ]
    },
    {
      "cell_type": "code",
      "metadata": {
        "id": "D3-bVDVuxprS",
        "colab": {
          "base_uri": "https://localhost:8080/"
        },
        "outputId": "f7f4fb07-b97c-4524-b3b7-8ced11dbf97c"
      },
      "source": [
        "print('Input: ', model.input)"
      ],
      "execution_count": 20,
      "outputs": [
        {
          "output_type": "stream",
          "name": "stdout",
          "text": [
            "Input:  KerasTensor(type_spec=TensorSpec(shape=(None, 3072), dtype=tf.float32, name='dense_input'), name='dense_input', description=\"created by layer 'dense_input'\")\n"
          ]
        }
      ]
    },
    {
      "cell_type": "code",
      "metadata": {
        "id": "Da2OJ3DmxprX",
        "colab": {
          "base_uri": "https://localhost:8080/"
        },
        "outputId": "3574c3db-6551-4e3d-cda2-28915d29106b"
      },
      "source": [
        "print('Layers:\\n')\n",
        "for layer in model.layers:\n",
        "    print(\"Layer's name: \", layer.name, ', trainable: ', layer.trainable)\n",
        "    print(layer.get_config(),'\\n')"
      ],
      "execution_count": 21,
      "outputs": [
        {
          "output_type": "stream",
          "name": "stdout",
          "text": [
            "Layers:\n",
            "\n",
            "Layer's name:  dense , trainable:  True\n",
            "{'name': 'dense', 'trainable': True, 'dtype': 'float32', 'batch_input_shape': (None, 3072), 'units': 128, 'activation': 'tanh', 'use_bias': True, 'kernel_initializer': {'module': 'keras.initializers', 'class_name': 'GlorotUniform', 'config': {'seed': None}, 'registered_name': None}, 'bias_initializer': {'module': 'keras.initializers', 'class_name': 'Zeros', 'config': {}, 'registered_name': None}, 'kernel_regularizer': None, 'bias_regularizer': None, 'activity_regularizer': None, 'kernel_constraint': None, 'bias_constraint': None} \n",
            "\n",
            "Layer's name:  dense_1 , trainable:  True\n",
            "{'name': 'dense_1', 'trainable': True, 'dtype': 'float32', 'units': 128, 'activation': 'tanh', 'use_bias': True, 'kernel_initializer': {'module': 'keras.initializers', 'class_name': 'GlorotUniform', 'config': {'seed': None}, 'registered_name': None}, 'bias_initializer': {'module': 'keras.initializers', 'class_name': 'Zeros', 'config': {}, 'registered_name': None}, 'kernel_regularizer': None, 'bias_regularizer': None, 'activity_regularizer': None, 'kernel_constraint': None, 'bias_constraint': None} \n",
            "\n",
            "Layer's name:  dense_2 , trainable:  True\n",
            "{'name': 'dense_2', 'trainable': True, 'dtype': 'float32', 'units': 10, 'activation': 'softmax', 'use_bias': True, 'kernel_initializer': {'module': 'keras.initializers', 'class_name': 'GlorotUniform', 'config': {'seed': None}, 'registered_name': None}, 'bias_initializer': {'module': 'keras.initializers', 'class_name': 'Zeros', 'config': {}, 'registered_name': None}, 'kernel_regularizer': None, 'bias_regularizer': None, 'activity_regularizer': None, 'kernel_constraint': None, 'bias_constraint': None} \n",
            "\n"
          ]
        }
      ]
    },
    {
      "cell_type": "code",
      "metadata": {
        "id": "AtVX3M3lxprc",
        "colab": {
          "base_uri": "https://localhost:8080/"
        },
        "outputId": "64fbf973-0141-4ce9-8f3a-2a3fc570e64e"
      },
      "source": [
        "print('Output: ', model.output)"
      ],
      "execution_count": 22,
      "outputs": [
        {
          "output_type": "stream",
          "name": "stdout",
          "text": [
            "Output:  KerasTensor(type_spec=TensorSpec(shape=(None, 10), dtype=tf.float32, name=None), name='dense_2/Softmax:0', description=\"created by layer 'dense_2'\")\n"
          ]
        }
      ]
    },
    {
      "cell_type": "markdown",
      "source": [
        "## 2.1. Exercise\n",
        "Introduce [early stopping](https://www.tensorflow.org/api_docs/python/tf/keras/callbacks/EarlyStopping) and [dropout](https://www.tensorflow.org/api_docs/python/tf/keras/layers/Dropout) with a rate between 0.1..0.5. Tips:\n",
        "\n",
        "* Insert the dropout layer between the two Dense layers.\n",
        "* Set the patience of early stopping to 5.\n",
        "* Set the number of epochs to a very high number.\n",
        "* Don't forget to restore best weights after early stopping.\n",
        "* And also set early stopping to monitor validation accuracy (the default value is validation loss -- which is categorical crossentropy now).\n",
        "\n",
        "Compile and train the model. Attempt to increase the validation accuracy as much as possible by making changes to the dropout rate. Inspect the effects of the modifications."
      ],
      "metadata": {
        "id": "E-hHfs9qA_iO"
      }
    },
    {
      "cell_type": "code",
      "source": [
        "es =EarlyStopping(monitor='val_accuracy', patience=5, restore_best_weights=True)"
      ],
      "metadata": {
        "id": "NwXrPzOgEBG-"
      },
      "execution_count": 23,
      "outputs": []
    },
    {
      "cell_type": "code",
      "source": [
        "# model definition with dropout\n",
        "model = Sequential()\n",
        "model.add(Dense(128, activation='relu', input_shape=(flattened_dim,)))\n",
        "model.add(Dropout(0.2))\n",
        "model.add(Dense(128, activation='relu'))\n",
        "model.add(Dense(nb_classes, activation='softmax'))\n",
        "\n",
        "# loss function and optimizer\n",
        "model.compile(loss='categorical_crossentropy', optimizer='adam', metrics=['accuracy'])"
      ],
      "metadata": {
        "id": "7hZEGzj8GFwP"
      },
      "execution_count": 24,
      "outputs": []
    },
    {
      "cell_type": "code",
      "source": [
        "# training with early stopping\n",
        "network_history = model.fit(X_train, Y_train,\n",
        "                            validation_data=(X_valid,Y_valid),\n",
        "                            batch_size=128,\n",
        "                            epochs=80,\n",
        "                            verbose=1,\n",
        "                            callbacks=[es])"
      ],
      "metadata": {
        "id": "GCG54R-vGGWj",
        "colab": {
          "base_uri": "https://localhost:8080/"
        },
        "outputId": "ef889cee-b7ce-48cc-c38b-7c6a897e8989"
      },
      "execution_count": 25,
      "outputs": [
        {
          "output_type": "stream",
          "name": "stdout",
          "text": [
            "Epoch 1/80\n",
            "313/313 [==============================] - 4s 5ms/step - loss: 1.8817 - accuracy: 0.3465 - val_loss: 1.6374 - val_accuracy: 0.4200\n",
            "Epoch 2/80\n",
            "313/313 [==============================] - 1s 5ms/step - loss: 1.6413 - accuracy: 0.4203 - val_loss: 1.5518 - val_accuracy: 0.4538\n",
            "Epoch 3/80\n",
            "313/313 [==============================] - 1s 4ms/step - loss: 1.5493 - accuracy: 0.4519 - val_loss: 1.5002 - val_accuracy: 0.4684\n",
            "Epoch 4/80\n",
            "313/313 [==============================] - 2s 5ms/step - loss: 1.4868 - accuracy: 0.4732 - val_loss: 1.4790 - val_accuracy: 0.4760\n",
            "Epoch 5/80\n",
            "313/313 [==============================] - 2s 5ms/step - loss: 1.4385 - accuracy: 0.4920 - val_loss: 1.4298 - val_accuracy: 0.4952\n",
            "Epoch 6/80\n",
            "313/313 [==============================] - 1s 5ms/step - loss: 1.3910 - accuracy: 0.5084 - val_loss: 1.4185 - val_accuracy: 0.5005\n",
            "Epoch 7/80\n",
            "313/313 [==============================] - 1s 4ms/step - loss: 1.3578 - accuracy: 0.5175 - val_loss: 1.4122 - val_accuracy: 0.5047\n",
            "Epoch 8/80\n",
            "313/313 [==============================] - 1s 4ms/step - loss: 1.3240 - accuracy: 0.5322 - val_loss: 1.3855 - val_accuracy: 0.5155\n",
            "Epoch 9/80\n",
            "313/313 [==============================] - 1s 4ms/step - loss: 1.2982 - accuracy: 0.5397 - val_loss: 1.3957 - val_accuracy: 0.5135\n",
            "Epoch 10/80\n",
            "313/313 [==============================] - 1s 5ms/step - loss: 1.2784 - accuracy: 0.5483 - val_loss: 1.3853 - val_accuracy: 0.5205\n",
            "Epoch 11/80\n",
            "313/313 [==============================] - 1s 4ms/step - loss: 1.2554 - accuracy: 0.5541 - val_loss: 1.3827 - val_accuracy: 0.5133\n",
            "Epoch 12/80\n",
            "313/313 [==============================] - 1s 4ms/step - loss: 1.2332 - accuracy: 0.5622 - val_loss: 1.3806 - val_accuracy: 0.5106\n",
            "Epoch 13/80\n",
            "313/313 [==============================] - 2s 6ms/step - loss: 1.2143 - accuracy: 0.5725 - val_loss: 1.3777 - val_accuracy: 0.5225\n",
            "Epoch 14/80\n",
            "313/313 [==============================] - 1s 4ms/step - loss: 1.1952 - accuracy: 0.5764 - val_loss: 1.3684 - val_accuracy: 0.5233\n",
            "Epoch 15/80\n",
            "313/313 [==============================] - 1s 4ms/step - loss: 1.1785 - accuracy: 0.5821 - val_loss: 1.3748 - val_accuracy: 0.5182\n",
            "Epoch 16/80\n",
            "313/313 [==============================] - 1s 4ms/step - loss: 1.1573 - accuracy: 0.5874 - val_loss: 1.3632 - val_accuracy: 0.5211\n",
            "Epoch 17/80\n",
            "313/313 [==============================] - 1s 4ms/step - loss: 1.1443 - accuracy: 0.5938 - val_loss: 1.3753 - val_accuracy: 0.5242\n",
            "Epoch 18/80\n",
            "313/313 [==============================] - 2s 5ms/step - loss: 1.1267 - accuracy: 0.6015 - val_loss: 1.3689 - val_accuracy: 0.5272\n",
            "Epoch 19/80\n",
            "313/313 [==============================] - 1s 4ms/step - loss: 1.1086 - accuracy: 0.6066 - val_loss: 1.3769 - val_accuracy: 0.5237\n",
            "Epoch 20/80\n",
            "313/313 [==============================] - 1s 4ms/step - loss: 1.0947 - accuracy: 0.6108 - val_loss: 1.3932 - val_accuracy: 0.5219\n",
            "Epoch 21/80\n",
            "313/313 [==============================] - 2s 5ms/step - loss: 1.0837 - accuracy: 0.6157 - val_loss: 1.3723 - val_accuracy: 0.5261\n",
            "Epoch 22/80\n",
            "313/313 [==============================] - 2s 6ms/step - loss: 1.0691 - accuracy: 0.6212 - val_loss: 1.4019 - val_accuracy: 0.5160\n",
            "Epoch 23/80\n",
            "313/313 [==============================] - 1s 4ms/step - loss: 1.0649 - accuracy: 0.6224 - val_loss: 1.3998 - val_accuracy: 0.5158\n"
          ]
        }
      ]
    },
    {
      "cell_type": "markdown",
      "source": [
        "## 2.2 Exercise\n",
        "Change the [activation function of the dense layers (except the last one)](https://www.tensorflow.org/api_docs/python/tf/keras/layers/Dense) to rectified linear unit (ReLU) and the [weight initialization](https://www.tensorflow.org/api_docs/python/tf/keras/initializers) to the theoretically best one. Use the original model's code.\n",
        "\n",
        "Compile and train the model. Inspect the effects of the modifications."
      ],
      "metadata": {
        "id": "zQCDM1o1BBtF"
      }
    },
    {
      "cell_type": "code",
      "source": [
        "# model definition with relu\n",
        "model = Sequential()\n",
        "model.add(Dense(128, activation='ReLU', kernel_initializer='glorot_uniform', input_shape=(flattened_dim,)))\n",
        "model.add(Dense(128, activation='ReLU', kernel_initializer='glorot_uniform'))\n",
        "model.add(Dense(nb_classes, activation='softmax'))\n",
        "\n",
        "# loss function and optimizer\n",
        "model.compile(loss='categorical_crossentropy', optimizer='adam', metrics=['accuracy'])"
      ],
      "metadata": {
        "id": "YjHAAh-wGu9O"
      },
      "execution_count": null,
      "outputs": []
    },
    {
      "cell_type": "code",
      "source": [
        "# training\n",
        "network_history = model.fit(X_train, Y_train,\n",
        "                            validation_data=(X_valid,Y_valid),\n",
        "                            batch_size=128,\n",
        "                            epochs=40,\n",
        "                            verbose=1,\n",
        "                            callbacks=[es])"
      ],
      "metadata": {
        "id": "rarwKM1wGxMz",
        "colab": {
          "base_uri": "https://localhost:8080/"
        },
        "outputId": "6d03fe16-0c67-4577-a1d0-4a709b57d171"
      },
      "execution_count": null,
      "outputs": [
        {
          "output_type": "stream",
          "name": "stdout",
          "text": [
            "Epoch 1/40\n",
            "313/313 [==============================] - 3s 7ms/step - loss: 1.7696 - accuracy: 0.3839 - val_loss: 1.6249 - val_accuracy: 0.4341\n",
            "Epoch 2/40\n",
            "313/313 [==============================] - 1s 5ms/step - loss: 1.5245 - accuracy: 0.4669 - val_loss: 1.5238 - val_accuracy: 0.4718\n",
            "Epoch 3/40\n",
            "313/313 [==============================] - 2s 5ms/step - loss: 1.4085 - accuracy: 0.5067 - val_loss: 1.4769 - val_accuracy: 0.4837\n",
            "Epoch 4/40\n",
            "313/313 [==============================] - 2s 5ms/step - loss: 1.3231 - accuracy: 0.5376 - val_loss: 1.4795 - val_accuracy: 0.4827\n",
            "Epoch 5/40\n",
            "313/313 [==============================] - 2s 6ms/step - loss: 1.2598 - accuracy: 0.5572 - val_loss: 1.4770 - val_accuracy: 0.4936\n",
            "Epoch 6/40\n",
            "313/313 [==============================] - 1s 4ms/step - loss: 1.1980 - accuracy: 0.5811 - val_loss: 1.4661 - val_accuracy: 0.4949\n",
            "Epoch 7/40\n",
            "313/313 [==============================] - 1s 4ms/step - loss: 1.1434 - accuracy: 0.6015 - val_loss: 1.4697 - val_accuracy: 0.5041\n",
            "Epoch 8/40\n",
            "313/313 [==============================] - 1s 5ms/step - loss: 1.0956 - accuracy: 0.6155 - val_loss: 1.4668 - val_accuracy: 0.5097\n",
            "Epoch 9/40\n",
            "313/313 [==============================] - 1s 4ms/step - loss: 1.0512 - accuracy: 0.6314 - val_loss: 1.4785 - val_accuracy: 0.5192\n",
            "Epoch 10/40\n",
            "313/313 [==============================] - 1s 5ms/step - loss: 1.0030 - accuracy: 0.6489 - val_loss: 1.4921 - val_accuracy: 0.5114\n",
            "Epoch 11/40\n",
            "313/313 [==============================] - 1s 4ms/step - loss: 0.9623 - accuracy: 0.6617 - val_loss: 1.5291 - val_accuracy: 0.5134\n",
            "Epoch 12/40\n",
            "313/313 [==============================] - 1s 5ms/step - loss: 0.9191 - accuracy: 0.6786 - val_loss: 1.5648 - val_accuracy: 0.5078\n",
            "Epoch 13/40\n",
            "313/313 [==============================] - 2s 6ms/step - loss: 0.8832 - accuracy: 0.6879 - val_loss: 1.5873 - val_accuracy: 0.5093\n",
            "Epoch 14/40\n",
            "313/313 [==============================] - 2s 5ms/step - loss: 0.8383 - accuracy: 0.7022 - val_loss: 1.6386 - val_accuracy: 0.5078\n"
          ]
        }
      ]
    },
    {
      "cell_type": "markdown",
      "source": [
        "# 2.3. Exercise\n",
        "Based on the modifications above, and by any further modifications (e.g. more layers, less layers, more neurons/layer, etc.) to the model design, find a combination that is able to achieve **validation accuracy, that is higher than 53%**.\n"
      ],
      "metadata": {
        "id": "j1tGVPdD-pp3"
      }
    },
    {
      "cell_type": "code",
      "source": [
        "es = EarlyStopping(monitor='val_accuracy', patience=20, restore_best_weights=True)"
      ],
      "metadata": {
        "id": "5dBQxJHIHrbd"
      },
      "execution_count": 34,
      "outputs": []
    },
    {
      "cell_type": "code",
      "source": [
        "# model definition with relu\n",
        "model = Sequential()\n",
        "model.add(Dense(128, activation='selu', kernel_initializer='LecunNormal', input_shape=(flattened_dim,)))\n",
        "model.add(Dropout(0.2))\n",
        "model.add(Dense(128, activation='selu', kernel_initializer='LecunNormal'))\n",
        "model.add(Dropout(0.4))\n",
        "model.add(Dense(64,activation='selu', kernel_initializer='LecunNormal'))\n",
        "model.add(Dense(32,activation='selu', kernel_initializer='LecunUniform'))\n",
        "model.add(Dense(nb_classes, activation='softmax'))\n",
        "\n",
        "# loss function and optimizer\n",
        "model.compile(loss='categorical_crossentropy', optimizer='adam', metrics=['accuracy'])\n",
        "model.summary()"
      ],
      "metadata": {
        "id": "PuxHOqLt-3Nd",
        "colab": {
          "base_uri": "https://localhost:8080/"
        },
        "outputId": "4273fb88-b19c-4d59-fc29-c80045ffaade"
      },
      "execution_count": 45,
      "outputs": [
        {
          "output_type": "stream",
          "name": "stdout",
          "text": [
            "Model: \"sequential_10\"\n",
            "_________________________________________________________________\n",
            " Layer (type)                Output Shape              Param #   \n",
            "=================================================================\n",
            " dense_39 (Dense)            (None, 128)               393344    \n",
            "                                                                 \n",
            " dropout_14 (Dropout)        (None, 128)               0         \n",
            "                                                                 \n",
            " dense_40 (Dense)            (None, 128)               16512     \n",
            "                                                                 \n",
            " dropout_15 (Dropout)        (None, 128)               0         \n",
            "                                                                 \n",
            " dense_41 (Dense)            (None, 64)                8256      \n",
            "                                                                 \n",
            " dense_42 (Dense)            (None, 32)                2080      \n",
            "                                                                 \n",
            " dense_43 (Dense)            (None, 10)                330       \n",
            "                                                                 \n",
            "=================================================================\n",
            "Total params: 420522 (1.60 MB)\n",
            "Trainable params: 420522 (1.60 MB)\n",
            "Non-trainable params: 0 (0.00 Byte)\n",
            "_________________________________________________________________\n"
          ]
        }
      ]
    },
    {
      "cell_type": "code",
      "source": [
        "# training\n",
        "network_history = model.fit(X_train, Y_train,\n",
        "                            validation_data=(X_valid,Y_valid),\n",
        "                            batch_size=128,\n",
        "                            epochs=60,\n",
        "                            verbose=1,\n",
        "                            callbacks=[es],)"
      ],
      "metadata": {
        "id": "u8tFNCNVHyt9",
        "colab": {
          "base_uri": "https://localhost:8080/"
        },
        "outputId": "e9df92ac-5217-47f8-be2b-2115cd4783b2"
      },
      "execution_count": 46,
      "outputs": [
        {
          "output_type": "stream",
          "name": "stdout",
          "text": [
            "Epoch 1/60\n",
            "313/313 [==============================] - 4s 7ms/step - loss: 2.0486 - accuracy: 0.2975 - val_loss: 1.6808 - val_accuracy: 0.3891\n",
            "Epoch 2/60\n",
            "313/313 [==============================] - 2s 5ms/step - loss: 1.7450 - accuracy: 0.3752 - val_loss: 1.5658 - val_accuracy: 0.4330\n",
            "Epoch 3/60\n",
            "313/313 [==============================] - 2s 5ms/step - loss: 1.6487 - accuracy: 0.4081 - val_loss: 1.4940 - val_accuracy: 0.4591\n",
            "Epoch 4/60\n",
            "313/313 [==============================] - 2s 5ms/step - loss: 1.5820 - accuracy: 0.4342 - val_loss: 1.4849 - val_accuracy: 0.4668\n",
            "Epoch 5/60\n",
            "313/313 [==============================] - 2s 5ms/step - loss: 1.5399 - accuracy: 0.4469 - val_loss: 1.4488 - val_accuracy: 0.4821\n",
            "Epoch 6/60\n",
            "313/313 [==============================] - 2s 5ms/step - loss: 1.5007 - accuracy: 0.4644 - val_loss: 1.4363 - val_accuracy: 0.4846\n",
            "Epoch 7/60\n",
            "313/313 [==============================] - 2s 7ms/step - loss: 1.4703 - accuracy: 0.4754 - val_loss: 1.4206 - val_accuracy: 0.4914\n",
            "Epoch 8/60\n",
            "313/313 [==============================] - 2s 6ms/step - loss: 1.4383 - accuracy: 0.4866 - val_loss: 1.4046 - val_accuracy: 0.4943\n",
            "Epoch 9/60\n",
            "313/313 [==============================] - 2s 5ms/step - loss: 1.4207 - accuracy: 0.4946 - val_loss: 1.3835 - val_accuracy: 0.5026\n",
            "Epoch 10/60\n",
            "313/313 [==============================] - 2s 5ms/step - loss: 1.3914 - accuracy: 0.5008 - val_loss: 1.3799 - val_accuracy: 0.5137\n",
            "Epoch 11/60\n",
            "313/313 [==============================] - 2s 5ms/step - loss: 1.3724 - accuracy: 0.5112 - val_loss: 1.3682 - val_accuracy: 0.5107\n",
            "Epoch 12/60\n",
            "313/313 [==============================] - 2s 5ms/step - loss: 1.3587 - accuracy: 0.5134 - val_loss: 1.3474 - val_accuracy: 0.5203\n",
            "Epoch 13/60\n",
            "313/313 [==============================] - 2s 6ms/step - loss: 1.3439 - accuracy: 0.5205 - val_loss: 1.3478 - val_accuracy: 0.5212\n",
            "Epoch 14/60\n",
            "313/313 [==============================] - 2s 7ms/step - loss: 1.3213 - accuracy: 0.5280 - val_loss: 1.3597 - val_accuracy: 0.5204\n",
            "Epoch 15/60\n",
            "313/313 [==============================] - 2s 5ms/step - loss: 1.3056 - accuracy: 0.5349 - val_loss: 1.3387 - val_accuracy: 0.5281\n",
            "Epoch 16/60\n",
            "313/313 [==============================] - 2s 5ms/step - loss: 1.2874 - accuracy: 0.5421 - val_loss: 1.3396 - val_accuracy: 0.5270\n",
            "Epoch 17/60\n",
            "313/313 [==============================] - 2s 5ms/step - loss: 1.2727 - accuracy: 0.5430 - val_loss: 1.3447 - val_accuracy: 0.5263\n",
            "Epoch 18/60\n",
            "313/313 [==============================] - 2s 5ms/step - loss: 1.2622 - accuracy: 0.5488 - val_loss: 1.3332 - val_accuracy: 0.5303\n",
            "Epoch 19/60\n",
            "313/313 [==============================] - 2s 6ms/step - loss: 1.2507 - accuracy: 0.5538 - val_loss: 1.3236 - val_accuracy: 0.5282\n",
            "Epoch 20/60\n",
            "313/313 [==============================] - 2s 5ms/step - loss: 1.2380 - accuracy: 0.5606 - val_loss: 1.3249 - val_accuracy: 0.5311\n",
            "Epoch 21/60\n",
            "313/313 [==============================] - 2s 7ms/step - loss: 1.2257 - accuracy: 0.5618 - val_loss: 1.3117 - val_accuracy: 0.5435\n",
            "Epoch 22/60\n",
            "313/313 [==============================] - 2s 5ms/step - loss: 1.2135 - accuracy: 0.5673 - val_loss: 1.3172 - val_accuracy: 0.5318\n",
            "Epoch 23/60\n",
            "313/313 [==============================] - 2s 5ms/step - loss: 1.2056 - accuracy: 0.5734 - val_loss: 1.3261 - val_accuracy: 0.5390\n",
            "Epoch 24/60\n",
            "313/313 [==============================] - 2s 5ms/step - loss: 1.1981 - accuracy: 0.5742 - val_loss: 1.3251 - val_accuracy: 0.5333\n",
            "Epoch 25/60\n",
            "313/313 [==============================] - 2s 5ms/step - loss: 1.1876 - accuracy: 0.5754 - val_loss: 1.3261 - val_accuracy: 0.5330\n",
            "Epoch 26/60\n",
            "313/313 [==============================] - 2s 5ms/step - loss: 1.1811 - accuracy: 0.5817 - val_loss: 1.3264 - val_accuracy: 0.5330\n",
            "Epoch 27/60\n",
            "313/313 [==============================] - 2s 5ms/step - loss: 1.1636 - accuracy: 0.5861 - val_loss: 1.3174 - val_accuracy: 0.5412\n",
            "Epoch 28/60\n",
            "313/313 [==============================] - 2s 7ms/step - loss: 1.1618 - accuracy: 0.5859 - val_loss: 1.3406 - val_accuracy: 0.5298\n",
            "Epoch 29/60\n",
            "313/313 [==============================] - 2s 6ms/step - loss: 1.1489 - accuracy: 0.5922 - val_loss: 1.3297 - val_accuracy: 0.5298\n",
            "Epoch 30/60\n",
            "313/313 [==============================] - 2s 5ms/step - loss: 1.1389 - accuracy: 0.5949 - val_loss: 1.3072 - val_accuracy: 0.5454\n",
            "Epoch 31/60\n",
            "313/313 [==============================] - 2s 5ms/step - loss: 1.1273 - accuracy: 0.6012 - val_loss: 1.3153 - val_accuracy: 0.5410\n",
            "Epoch 32/60\n",
            "313/313 [==============================] - 2s 5ms/step - loss: 1.1242 - accuracy: 0.6008 - val_loss: 1.3296 - val_accuracy: 0.5412\n",
            "Epoch 33/60\n",
            "313/313 [==============================] - 2s 5ms/step - loss: 1.1131 - accuracy: 0.6060 - val_loss: 1.3240 - val_accuracy: 0.5400\n",
            "Epoch 34/60\n",
            "313/313 [==============================] - 2s 5ms/step - loss: 1.1061 - accuracy: 0.6074 - val_loss: 1.3198 - val_accuracy: 0.5431\n",
            "Epoch 35/60\n",
            "313/313 [==============================] - 2s 7ms/step - loss: 1.0992 - accuracy: 0.6118 - val_loss: 1.3297 - val_accuracy: 0.5411\n",
            "Epoch 36/60\n",
            "313/313 [==============================] - 2s 6ms/step - loss: 1.0915 - accuracy: 0.6128 - val_loss: 1.3255 - val_accuracy: 0.5389\n",
            "Epoch 37/60\n",
            "313/313 [==============================] - 2s 5ms/step - loss: 1.0826 - accuracy: 0.6124 - val_loss: 1.3196 - val_accuracy: 0.5438\n",
            "Epoch 38/60\n",
            "313/313 [==============================] - 2s 5ms/step - loss: 1.0779 - accuracy: 0.6195 - val_loss: 1.3288 - val_accuracy: 0.5449\n",
            "Epoch 39/60\n",
            "313/313 [==============================] - 2s 5ms/step - loss: 1.0776 - accuracy: 0.6187 - val_loss: 1.3299 - val_accuracy: 0.5429\n",
            "Epoch 40/60\n",
            "313/313 [==============================] - 2s 5ms/step - loss: 1.0641 - accuracy: 0.6212 - val_loss: 1.3251 - val_accuracy: 0.5417\n",
            "Epoch 41/60\n",
            "313/313 [==============================] - 2s 5ms/step - loss: 1.0586 - accuracy: 0.6231 - val_loss: 1.3281 - val_accuracy: 0.5424\n",
            "Epoch 42/60\n",
            "313/313 [==============================] - 2s 7ms/step - loss: 1.0556 - accuracy: 0.6242 - val_loss: 1.3313 - val_accuracy: 0.5444\n",
            "Epoch 43/60\n",
            "313/313 [==============================] - 2s 5ms/step - loss: 1.0468 - accuracy: 0.6267 - val_loss: 1.3519 - val_accuracy: 0.5350\n",
            "Epoch 44/60\n",
            "313/313 [==============================] - 2s 6ms/step - loss: 1.0404 - accuracy: 0.6296 - val_loss: 1.3297 - val_accuracy: 0.5462\n",
            "Epoch 45/60\n",
            "313/313 [==============================] - 2s 5ms/step - loss: 1.0371 - accuracy: 0.6334 - val_loss: 1.3347 - val_accuracy: 0.5439\n",
            "Epoch 46/60\n",
            "313/313 [==============================] - 2s 5ms/step - loss: 1.0250 - accuracy: 0.6357 - val_loss: 1.3446 - val_accuracy: 0.5361\n",
            "Epoch 47/60\n",
            "313/313 [==============================] - 2s 6ms/step - loss: 1.0212 - accuracy: 0.6391 - val_loss: 1.3260 - val_accuracy: 0.5437\n",
            "Epoch 48/60\n",
            "313/313 [==============================] - 2s 5ms/step - loss: 1.0226 - accuracy: 0.6387 - val_loss: 1.3493 - val_accuracy: 0.5393\n",
            "Epoch 49/60\n",
            "313/313 [==============================] - 2s 7ms/step - loss: 1.0092 - accuracy: 0.6423 - val_loss: 1.3522 - val_accuracy: 0.5396\n",
            "Epoch 50/60\n",
            "313/313 [==============================] - 2s 5ms/step - loss: 1.0078 - accuracy: 0.6411 - val_loss: 1.3540 - val_accuracy: 0.5399\n",
            "Epoch 51/60\n",
            "313/313 [==============================] - 2s 5ms/step - loss: 1.0034 - accuracy: 0.6431 - val_loss: 1.3444 - val_accuracy: 0.5431\n",
            "Epoch 52/60\n",
            "313/313 [==============================] - 2s 5ms/step - loss: 0.9907 - accuracy: 0.6512 - val_loss: 1.3603 - val_accuracy: 0.5446\n",
            "Epoch 53/60\n",
            "313/313 [==============================] - 2s 5ms/step - loss: 0.9911 - accuracy: 0.6510 - val_loss: 1.3681 - val_accuracy: 0.5360\n",
            "Epoch 54/60\n",
            "313/313 [==============================] - 2s 5ms/step - loss: 0.9886 - accuracy: 0.6506 - val_loss: 1.3495 - val_accuracy: 0.5414\n",
            "Epoch 55/60\n",
            "313/313 [==============================] - 2s 5ms/step - loss: 0.9835 - accuracy: 0.6503 - val_loss: 1.3573 - val_accuracy: 0.5389\n",
            "Epoch 56/60\n",
            "313/313 [==============================] - 2s 7ms/step - loss: 0.9842 - accuracy: 0.6494 - val_loss: 1.3582 - val_accuracy: 0.5412\n",
            "Epoch 57/60\n",
            "313/313 [==============================] - 2s 6ms/step - loss: 0.9706 - accuracy: 0.6567 - val_loss: 1.3859 - val_accuracy: 0.5388\n",
            "Epoch 58/60\n",
            "313/313 [==============================] - 2s 5ms/step - loss: 0.9709 - accuracy: 0.6553 - val_loss: 1.3609 - val_accuracy: 0.5416\n",
            "Epoch 59/60\n",
            "313/313 [==============================] - 2s 7ms/step - loss: 0.9597 - accuracy: 0.6603 - val_loss: 1.3601 - val_accuracy: 0.5410\n",
            "Epoch 60/60\n",
            "313/313 [==============================] - 2s 5ms/step - loss: 0.9635 - accuracy: 0.6576 - val_loss: 1.3612 - val_accuracy: 0.5411\n"
          ]
        }
      ]
    },
    {
      "cell_type": "markdown",
      "source": [
        "# 3. Evaluation on test data and inference\n",
        "At this point, we will perform a basic evaluation and inference. With the model.evaluate function, the same metrics are calculated, that were used during training:"
      ],
      "metadata": {
        "id": "2FtKp-a2-A9m"
      }
    },
    {
      "cell_type": "code",
      "source": [
        "print(model.evaluate(X_test, Y_test))"
      ],
      "metadata": {
        "id": "I3_9wgDREUna",
        "colab": {
          "base_uri": "https://localhost:8080/"
        },
        "outputId": "2c356536-39c9-4ddf-b1a6-a909410d87a5"
      },
      "execution_count": 47,
      "outputs": [
        {
          "output_type": "stream",
          "name": "stdout",
          "text": [
            "313/313 [==============================] - 1s 2ms/step - loss: 1.3689 - accuracy: 0.5352\n",
            "[1.3689384460449219, 0.5351999998092651]\n"
          ]
        }
      ]
    },
    {
      "cell_type": "markdown",
      "source": [
        "we would like to see similar values, as in the validation set. If those are close to each other, then the generalization ability of the model is good (in case of an independent test-set)."
      ],
      "metadata": {
        "id": "ECHguBFtGL7f"
      }
    },
    {
      "cell_type": "markdown",
      "source": [
        "## 3.1. Exercise\n",
        "Predict the class of the first 10 elements in the test set, and compare the predicted values with the actual, target values in the test set. Hints:\n",
        "* you can use [model.predict](https://www.activestate.com/resources/quick-reads/how-to-use-a-model-to-do-predictions-with-keras/) for prediction\n",
        "* from the output you can select the largest value with the [argmax() function of Numpy](https://stackoverflow.com/questions/62358642/convert-one-hot-encoding-back-to-number-label). As there are multiple values, you have to call it with axis=1 parameter.\n",
        "* it is enought to compare the predictions and the targets by printing the values out and inspecting them."
      ],
      "metadata": {
        "id": "0Io4zYJeHjz6"
      }
    },
    {
      "cell_type": "code",
      "source": [
        "preds = model.predict(X_test[:10])\n",
        "preds_dense = np.argmax(preds, axis=1)"
      ],
      "metadata": {
        "id": "XEEyU7exILqF",
        "colab": {
          "base_uri": "https://localhost:8080/"
        },
        "outputId": "968cabc1-d7d0-4443-d2b6-641e4bee756d"
      },
      "execution_count": 48,
      "outputs": [
        {
          "output_type": "stream",
          "name": "stdout",
          "text": [
            "1/1 [==============================] - 0s 86ms/step\n"
          ]
        }
      ]
    },
    {
      "cell_type": "markdown",
      "source": [
        "Before comparision, you have to convert back the one-hot encoded target values the same way, as you converted the output of the neural network to class values with argmax() function."
      ],
      "metadata": {
        "id": "seZTEFI-I5cZ"
      }
    },
    {
      "cell_type": "code",
      "source": [
        "print(\"Target labels:\", np.argmax(Y_test[:10],axis=1))\n",
        "print(\"Predicted labels:\", preds_dense)"
      ],
      "metadata": {
        "id": "PHLvoMuIIkJ6",
        "colab": {
          "base_uri": "https://localhost:8080/"
        },
        "outputId": "7fa05c6d-dfc8-494f-d34c-8d912c6194c6"
      },
      "execution_count": 49,
      "outputs": [
        {
          "output_type": "stream",
          "name": "stdout",
          "text": [
            "Target labels: [3 8 8 0 6 6 1 6 3 1]\n",
            "Predicted labels: [3 8 0 0 6 6 1 6 2 1]\n"
          ]
        }
      ]
    }
  ]
}