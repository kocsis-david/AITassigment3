{
  "nbformat": 4,
  "nbformat_minor": 0,
  "metadata": {
    "anaconda-cloud": {},
    "kernelspec": {
      "display_name": "Python 3",
      "language": "python",
      "name": "python3"
    },
    "language_info": {
      "codemirror_mode": {
        "name": "ipython",
        "version": 3
      },
      "file_extension": ".py",
      "mimetype": "text/x-python",
      "name": "python",
      "nbconvert_exporter": "python",
      "pygments_lexer": "ipython3",
      "version": "3.6.6"
    },
    "colab": {
      "provenance": [],
      "include_colab_link": true
    },
    "accelerator": "GPU"
  },
  "cells": [
    {
      "cell_type": "markdown",
      "metadata": {
        "id": "view-in-github",
        "colab_type": "text"
      },
      "source": [
        "<a href=\"https://colab.research.google.com/github/kocsis-david/AITassigment3/blob/main/Copy_of_04_AIT_MLP_CIFAR10_exercise.ipynb\" target=\"_parent\"><img src=\"https://colab.research.google.com/assets/colab-badge.svg\" alt=\"Open In Colab\"/></a>"
      ]
    },
    {
      "cell_type": "markdown",
      "metadata": {
        "id": "cW-EyI5Lxpqi"
      },
      "source": [
        "# Copyright\n",
        "\n",
        "<PRE>\n",
        "Copyright (c) 2024 Bálint Gyires-Tóth - All Rights Reserved\n",
        "You may use and modify this code for research and development purpuses.\n",
        "Using this code for educational purposes (self-paced or instructor led) without the permission of the author is prohibited.\n",
        "</PRE>"
      ]
    },
    {
      "cell_type": "markdown",
      "source": [
        "# Example of data exploration, modeling, regulartion and prediction\n",
        "Our exercise today involves loading a standard dataset using TensorFlow Keras API, exploring the data, building a simple neural network, and evaluating the effects of basic methods (activation functions, regularization, weight initialization, etc.). We then perform predictions on the test set and inspect the results."
      ],
      "metadata": {
        "id": "3EX4cCa4WKJu"
      }
    },
    {
      "cell_type": "markdown",
      "source": [
        "# 1. Data\n",
        "The dataset we will use is the well-known CIFAR10 (Canadian Institute For Advanced Research). Explore the details on the Keras website first: https://keras.io/api/datasets/cifar10/\n",
        "\n",
        "After you explored the basic features of the data, let's load it into the memory and explore the shapes:"
      ],
      "metadata": {
        "id": "yY9fztIeWIKt"
      }
    },
    {
      "cell_type": "code",
      "source": [
        "from tensorflow.keras.datasets import cifar10\n",
        "from tensorflow.keras.utils import to_categorical\n",
        "import numpy as np"
      ],
      "metadata": {
        "id": "giRZKTjzX_7l"
      },
      "execution_count": 36,
      "outputs": []
    },
    {
      "cell_type": "code",
      "source": [
        "(X_train, Y_train), (X_test, Y_test) = cifar10.load_data()"
      ],
      "metadata": {
        "id": "bez7q0eiWQCK"
      },
      "execution_count": 37,
      "outputs": []
    },
    {
      "cell_type": "code",
      "source": [
        "print(X_train.shape)\n",
        "print(X_test.shape)\n",
        "print(Y_train.shape)\n",
        "print(Y_test.shape)"
      ],
      "metadata": {
        "id": "2tJoRq5wXywi",
        "colab": {
          "base_uri": "https://localhost:8080/"
        },
        "outputId": "4fb4467c-d922-45be-cf4f-cb546279f8ab"
      },
      "execution_count": null,
      "outputs": [
        {
          "output_type": "stream",
          "name": "stdout",
          "text": [
            "(50000, 32, 32, 3)\n",
            "(10000, 32, 32, 3)\n",
            "(50000, 1)\n",
            "(10000, 1)\n"
          ]
        }
      ]
    },
    {
      "cell_type": "markdown",
      "source": [
        "## 1.1. Exercise\n",
        "Display the first ten images of the training data. Hints:\n",
        "* Axis 0 refers to the separate images, e.g. X_train[0]\n",
        "* You can use the [Matplotlib Pyplot imshow function](https://matplotlib.org/stable/api/_as_gen/matplotlib.pyplot.imshow.html) for displaying the image. Just don't forget to import Plotly first!\n",
        "* A corresponding example, but you have to modify the code for your purpose: https://stackoverflow.com/questions/46615554/how-to-display-multiple-images-in-one-figure-correctly"
      ],
      "metadata": {
        "id": "zTCSGFyDlNvf"
      }
    },
    {
      "cell_type": "code",
      "source": [
        "import matplotlib.pyplot as plt\n",
        "\n",
        "import matplotlib.pyplot as plt\n",
        "\n",
        "fig, ax = plt.subplots(1, 10, figsize=(20, 20))\n",
        "for i in range(10):\n",
        "    ax[i].imshow(X_train[i])\n",
        "    ax[i].axis('off')\n",
        "plt.show()"
      ],
      "metadata": {
        "id": "hIQhHTppmBdO",
        "colab": {
          "base_uri": "https://localhost:8080/",
          "height": 145
        },
        "outputId": "146ff6bf-3b08-46fe-cfb4-5954955b9ba2"
      },
      "execution_count": 38,
      "outputs": [
        {
          "output_type": "display_data",
          "data": {
            "text/plain": [
              "<Figure size 2000x2000 with 10 Axes>"
            ],
            "image/png": "[encoded data removed]"
          },
          "metadata": {}
        }
      ]
    },
    {
      "cell_type": "markdown",
      "source": [
        "Print the corresponding labels of the displayed images from the target variable (Y_train):"
      ],
      "metadata": {
        "id": "FAQkUWlmm-bc"
      }
    },
    {
      "cell_type": "code",
      "source": [
        "print(Y_train[:10]);"
      ],
      "metadata": {
        "id": "AkOrWzghnJ78",
        "colab": {
          "base_uri": "https://localhost:8080/"
        },
        "outputId": "1caf941a-9089-46e4-c437-ecf6353813ea"
      },
      "execution_count": null,
      "outputs": [
        {
          "output_type": "stream",
          "name": "stdout",
          "text": [
            "[[6]\n",
            " [9]\n",
            " [9]\n",
            " [4]\n",
            " [1]\n",
            " [1]\n",
            " [2]\n",
            " [7]\n",
            " [8]\n",
            " [3]]\n"
          ]
        }
      ]
    },
    {
      "cell_type": "markdown",
      "source": [
        "## 1.2. Exercise\n",
        "We will train a Multi-Layer Perceptron (MLP), which requires a 2 dimensional input: 0th axis refers to the datapoints (i.e. images), the 1th dimens to the input. As images are 3 dimensional (width, height, color channels), you have to reshape the images into vectors. We also call this flattening.\n",
        "\n",
        "In order to do so, calculate the size of the equivalent 1D vector of the image:"
      ],
      "metadata": {
        "id": "VX24g5FstsRU"
      }
    },
    {
      "cell_type": "code",
      "source": [
        "flattened_dim = (X_train.shape[1]*X_train.shape[2]*X_train.shape[3])"
      ],
      "metadata": {
        "id": "hdoMyxHzuXZG"
      },
      "execution_count": 39,
      "outputs": []
    },
    {
      "cell_type": "markdown",
      "source": [
        "After you calculated it, we can reshape the images, and covert the integer arrays into float arrays -- which are needed for the neural networks as input. Hint:\n",
        "* in the [reshape() function of Numpy](https://www.w3schools.com/python/numpy/numpy_array_reshape.asp) you can use -1 for one axis, to automatically calculate that value."
      ],
      "metadata": {
        "id": "WbqXJUSFubeC"
      }
    },
    {
      "cell_type": "code",
      "source": [
        "# reshape 3D tensors to 2D tensors\n",
        "X_train = X_train.reshape((-1,flattened_dim))\n",
        "X_test = X_test.reshape((-1,flattened_dim))\n",
        "\n",
        "# it is in int8 format, the neural network requires float32\n",
        "X_train = X_train.astype(np.float32)\n",
        "X_test = X_test.astype(np.float32)"
      ],
      "metadata": {
        "id": "vukOcBM0XzSj"
      },
      "execution_count": 40,
      "outputs": []
    },
    {
      "cell_type": "markdown",
      "source": [
        "## 1.3. Exercise\n",
        "As the next step, let's split the training data into training and validation data. 80% of the original training data should be the final training data, and 20% the validation.\n",
        "You should use Numpy indexing to select the first 80% of X_train as final X_train, and the last 20% as X_valid. Hints:\n",
        "* https://datascienceparichay.com/article/numpy-array-first-n-rows/\n",
        "* https://datascienceparichay.com/article/numpy-array-last-n-rows/"
      ],
      "metadata": {
        "id": "DO79AdIdvVfD"
      }
    },
    {
      "cell_type": "code",
      "source": [
        "train_ratio  = 0.8\n",
        "train_length = int(X_train.shape[0] * train_ratio)\n",
        "train_split  = X_train.shape[0] - train_length\n",
        "X_valid, Y_valid = X_train[:train_split], Y_train[:train_split]\n",
        "X_train, Y_train = X_train[train_split:], Y_train[train_split:]\n"
      ],
      "metadata": {
        "id": "mRwuWxxIxLgN"
      },
      "execution_count": 41,
      "outputs": []
    },
    {
      "cell_type": "markdown",
      "source": [
        "## 1.4. Exercise\n",
        "As the last step of input data preparation, the data should be standardized. Calculate the mean and variance of the training data (elementvise -- so for each value of the flattened image you should get a mean and variance for the training data along 0th axis). Hint:\n",
        "* https://stackoverflow.com/questions/70626231/how-to-calculate-mean-variance-standard-deviation-per-index-of-array"
      ],
      "metadata": {
        "id": "z05y_QWDxWER"
      }
    },
    {
      "cell_type": "code",
      "source": [
        "mean =np.mean(X_train)\n",
        "std  =np.std(X_train)"
      ],
      "metadata": {
        "id": "TSZbvWCBx8Ea"
      },
      "execution_count": 42,
      "outputs": []
    },
    {
      "cell_type": "markdown",
      "source": [
        "Next, use the resulting values to standardize the training, validation and test data by substracting the mean and dividing the result with the standard deviation."
      ],
      "metadata": {
        "id": "6WRHKkkjyN1S"
      }
    },
    {
      "cell_type": "code",
      "source": [
        "X_train = (X_train-mean)/std\n",
        "X_valid = (X_valid-mean)/std\n",
        "X_test  = (X_test-mean)/std"
      ],
      "metadata": {
        "id": "2ESLP1EIyB2J"
      },
      "execution_count": 43,
      "outputs": []
    },
    {
      "cell_type": "markdown",
      "source": [
        "## 1.5. Exercise\n",
        "And as the last step, convert the dense representation of the classes (i.e. 0,1,2,3...9) to one-hot encoding (0 = [1 0 0 0 0 0 0 0 0 0], 1 = [0 1 0 0 0 0 0 0 0 0] ... 9 = [0 0 0 0 0 0 0 0 0 1]). To do this, first, calculate the number of unique elements in the target training data. Hints:\n",
        "* use the [unique() function](https://numpy.org/doc/stable/reference/generated/numpy.unique.html) of Numpy to list the unique elements\n",
        "* you can count the number of elements in a list with the [len() function](https://www.w3schools.com/python/ref_func_len.asp)"
      ],
      "metadata": {
        "id": "ooHCnUin7r4o"
      }
    },
    {
      "cell_type": "code",
      "source": [
        "nb_classes =len(np.unique(Y_train))"
      ],
      "metadata": {
        "id": "i0LAO9cs8KEE"
      },
      "execution_count": 44,
      "outputs": []
    },
    {
      "cell_type": "markdown",
      "source": [
        "Doublecheck, if the same number of classes exists in the validation and test target data:"
      ],
      "metadata": {
        "id": "BvM6XhGe8JU9"
      }
    },
    {
      "cell_type": "code",
      "source": [
        "print(\"Validation data has the same number of classes, as the training data:\", nb_classes == len(np.unique(Y_valid)))\n",
        "print(\"Test data has the same number of classes, as the training data:\", nb_classes == len(np.unique(Y_test)))"
      ],
      "metadata": {
        "id": "eZFNSsyx_Py2",
        "colab": {
          "base_uri": "https://localhost:8080/"
        },
        "outputId": "1d65904a-2695-4998-90ca-be4a54f2082d"
      },
      "execution_count": 45,
      "outputs": [
        {
          "output_type": "stream",
          "name": "stdout",
          "text": [
            "Validation data has the same number of classes, as the training data: True\n",
            "Test data has the same number of classes, as the training data: True\n"
          ]
        }
      ]
    },
    {
      "cell_type": "markdown",
      "source": [
        "And convert the dense representation into one-hot encoding. Hint:\n",
        "* use the [to_categorical function](https://www.tensorflow.org/api_docs/python/tf/keras/utils/to_categorical) with the calculated nb_classes\n"
      ],
      "metadata": {
        "id": "mJM-iBmR8dLe"
      }
    },
    {
      "cell_type": "code",
      "source": [
        "Y_train = to_categorical(Y_train, nb_classes)\n",
        "Y_valid = to_categorical(Y_valid, nb_classes)\n",
        "Y_test  = to_categorical(Y_test, nb_classes)"
      ],
      "metadata": {
        "id": "xwZ4OJ6I8lba"
      },
      "execution_count": 46,
      "outputs": []
    },
    {
      "cell_type": "markdown",
      "source": [
        "## Final check of data preparation\n",
        "Now, lets check the shapes and mean and standard deviation of the training, validation and test data."
      ],
      "metadata": {
        "id": "LshN2OSsv3TZ"
      }
    },
    {
      "cell_type": "code",
      "source": [
        "print(\"Shapes of the training, validation and test input data:\", X_train.shape, X_valid.shape, X_test.shape)\n",
        "print(\"Shapes of the training, validation and test output data:\", Y_train.shape, Y_valid.shape, Y_test.shape)\n",
        "print(\"Mean values of the training, validation and test input data:\", X_train.mean(), X_valid.mean(), X_test.mean())\n",
        "print(\"Standard deviation of the training, validation and test input data:\", X_train.std(), X_valid.std(), X_test.std())"
      ],
      "metadata": {
        "id": "O_jdJVcvX0vi",
        "colab": {
          "base_uri": "https://localhost:8080/"
        },
        "outputId": "34f346ec-55f1-4da7-fc39-6074c9de0b9f"
      },
      "execution_count": 47,
      "outputs": [
        {
          "output_type": "stream",
          "name": "stdout",
          "text": [
            "Shapes of the training, validation and test input data: (40000, 3072) (10000, 3072) (10000, 3072)\n",
            "Shapes of the training, validation and test output data: (40000, 10) (10000, 10) (10000, 10)\n",
            "Mean values of the training, validation and test input data: 3.9108672e-06 0.00650789 0.01412415\n",
            "Standard deviation of the training, validation and test input data: 1.0000006 1.0046989 0.99955535\n"
          ]
        }
      ]
    },
    {
      "cell_type": "markdown",
      "source": [
        "Don't worry, if the mean and standard deviation of the validation and test data are not exactly 0 and 1, but these might be very mear to it (e.g. 0.01 mean, 0.99 variance)."
      ],
      "metadata": {
        "id": "5GtAOOoezmZY"
      }
    },
    {
      "cell_type": "markdown",
      "metadata": {
        "id": "cJ14oyZExpqj"
      },
      "source": [
        "# 2. Training"
      ]
    },
    {
      "cell_type": "markdown",
      "metadata": {
        "id": "s4ZXYRMBxpql"
      },
      "source": [
        "Let us begin with a simple example of creating a small neural network without regularization and training it with actual data. The purpose of this is to provide you with an example as to how to proceed with the next exercise."
      ]
    },
    {
      "cell_type": "code",
      "source": [
        "# imports\n",
        "import numpy as np\n",
        "import matplotlib.pyplot as plt\n",
        "from tensorflow.keras.models import Sequential\n",
        "from tensorflow.keras.layers import Dense, Embedding, Flatten, Dropout\n",
        "from tensorflow.keras.initializers import HeNormal\n",
        "from tensorflow.keras.callbacks import EarlyStopping"
      ],
      "metadata": {
        "id": "6-8Q6ll7ZDgq"
      },
      "execution_count": 48,
      "outputs": []
    },
    {
      "cell_type": "code",
      "source": [
        "# model definition\n",
        "model = Sequential()\n",
        "model.add(Dense(128, activation='tanh', input_shape=(flattened_dim,)))\n",
        "model.add(Dense(128, activation='tanh'))\n",
        "model.add(Dense(nb_classes, activation='softmax'))\n",
        "\n",
        "# loss function and optimizer\n",
        "model.compile(loss='categorical_crossentropy', optimizer='adam', metrics=['accuracy'])"
      ],
      "metadata": {
        "id": "pke6w3CD8DHp"
      },
      "execution_count": null,
      "outputs": []
    },
    {
      "cell_type": "code",
      "metadata": {
        "id": "CZbOR76QxprC",
        "colab": {
          "base_uri": "https://localhost:8080/"
        },
        "outputId": "0d56e66d-340a-42ac-ba81-5388c5d9acb3"
      },
      "source": [
        "# training\n",
        "network_history = model.fit(X_train, Y_train,\n",
        "                            validation_data=(X_valid,Y_valid),\n",
        "                            batch_size=128,\n",
        "                            epochs=40,\n",
        "                            verbose=1)"
      ],
      "execution_count": null,
      "outputs": [
        {
          "output_type": "stream",
          "name": "stdout",
          "text": [
            "Epoch 1/40\n",
            "313/313 [==============================] - 4s 8ms/step - loss: 1.8286 - accuracy: 0.3630 - val_loss: 1.7232 - val_accuracy: 0.3846\n",
            "Epoch 2/40\n",
            "313/313 [==============================] - 2s 5ms/step - loss: 1.6914 - accuracy: 0.4115 - val_loss: 1.6906 - val_accuracy: 0.4072\n",
            "Epoch 3/40\n",
            "313/313 [==============================] - 2s 5ms/step - loss: 1.6361 - accuracy: 0.4306 - val_loss: 1.6806 - val_accuracy: 0.4203\n",
            "Epoch 4/40\n",
            "313/313 [==============================] - 2s 5ms/step - loss: 1.5937 - accuracy: 0.4456 - val_loss: 1.6388 - val_accuracy: 0.4275\n",
            "Epoch 5/40\n",
            "313/313 [==============================] - 2s 5ms/step - loss: 1.5590 - accuracy: 0.4586 - val_loss: 1.6316 - val_accuracy: 0.4285\n",
            "Epoch 6/40\n",
            "313/313 [==============================] - 1s 5ms/step - loss: 1.5203 - accuracy: 0.4717 - val_loss: 1.6203 - val_accuracy: 0.4316\n",
            "Epoch 7/40\n",
            "313/313 [==============================] - 1s 5ms/step - loss: 1.4940 - accuracy: 0.4796 - val_loss: 1.6143 - val_accuracy: 0.4359\n",
            "Epoch 8/40\n",
            "313/313 [==============================] - 1s 5ms/step - loss: 1.4614 - accuracy: 0.4909 - val_loss: 1.6023 - val_accuracy: 0.4432\n",
            "Epoch 9/40\n",
            "313/313 [==============================] - 2s 7ms/step - loss: 1.4354 - accuracy: 0.5002 - val_loss: 1.5926 - val_accuracy: 0.4473\n",
            "Epoch 10/40\n",
            "313/313 [==============================] - 2s 5ms/step - loss: 1.4108 - accuracy: 0.5086 - val_loss: 1.5879 - val_accuracy: 0.4451\n",
            "Epoch 11/40\n",
            "313/313 [==============================] - 2s 5ms/step - loss: 1.3909 - accuracy: 0.5148 - val_loss: 1.5786 - val_accuracy: 0.4518\n",
            "Epoch 12/40\n",
            "313/313 [==============================] - 2s 5ms/step - loss: 1.3658 - accuracy: 0.5218 - val_loss: 1.5788 - val_accuracy: 0.4554\n",
            "Epoch 13/40\n",
            "313/313 [==============================] - 2s 5ms/step - loss: 1.3468 - accuracy: 0.5321 - val_loss: 1.5822 - val_accuracy: 0.4522\n",
            "Epoch 14/40\n",
            "313/313 [==============================] - 2s 5ms/step - loss: 1.3248 - accuracy: 0.5376 - val_loss: 1.5818 - val_accuracy: 0.4553\n",
            "Epoch 15/40\n",
            "313/313 [==============================] - 1s 5ms/step - loss: 1.3115 - accuracy: 0.5452 - val_loss: 1.5857 - val_accuracy: 0.4460\n",
            "Epoch 16/40\n",
            "313/313 [==============================] - 2s 6ms/step - loss: 1.2896 - accuracy: 0.5471 - val_loss: 1.5845 - val_accuracy: 0.4528\n",
            "Epoch 17/40\n",
            "313/313 [==============================] - 2s 6ms/step - loss: 1.2727 - accuracy: 0.5584 - val_loss: 1.5925 - val_accuracy: 0.4463\n",
            "Epoch 18/40\n",
            "313/313 [==============================] - 2s 5ms/step - loss: 1.2516 - accuracy: 0.5634 - val_loss: 1.5802 - val_accuracy: 0.4580\n",
            "Epoch 19/40\n",
            "313/313 [==============================] - 1s 4ms/step - loss: 1.2277 - accuracy: 0.5724 - val_loss: 1.5914 - val_accuracy: 0.4561\n",
            "Epoch 20/40\n",
            "313/313 [==============================] - 1s 5ms/step - loss: 1.2158 - accuracy: 0.5771 - val_loss: 1.5812 - val_accuracy: 0.4545\n",
            "Epoch 21/40\n",
            "313/313 [==============================] - 1s 5ms/step - loss: 1.1991 - accuracy: 0.5827 - val_loss: 1.6034 - val_accuracy: 0.4543\n",
            "Epoch 22/40\n",
            "313/313 [==============================] - 1s 4ms/step - loss: 1.1850 - accuracy: 0.5860 - val_loss: 1.5919 - val_accuracy: 0.4511\n",
            "Epoch 23/40\n",
            "313/313 [==============================] - 1s 4ms/step - loss: 1.1663 - accuracy: 0.5959 - val_loss: 1.5909 - val_accuracy: 0.4616\n",
            "Epoch 24/40\n",
            "313/313 [==============================] - 2s 5ms/step - loss: 1.1450 - accuracy: 0.6023 - val_loss: 1.5982 - val_accuracy: 0.4568\n",
            "Epoch 25/40\n",
            "313/313 [==============================] - 2s 5ms/step - loss: 1.1312 - accuracy: 0.6077 - val_loss: 1.6033 - val_accuracy: 0.4638\n",
            "Epoch 26/40\n",
            "313/313 [==============================] - 1s 5ms/step - loss: 1.1146 - accuracy: 0.6118 - val_loss: 1.6211 - val_accuracy: 0.4562\n",
            "Epoch 27/40\n",
            "313/313 [==============================] - 1s 5ms/step - loss: 1.0946 - accuracy: 0.6174 - val_loss: 1.6333 - val_accuracy: 0.4583\n",
            "Epoch 28/40\n",
            "313/313 [==============================] - 1s 4ms/step - loss: 1.0844 - accuracy: 0.6225 - val_loss: 1.6444 - val_accuracy: 0.4545\n",
            "Epoch 29/40\n",
            "313/313 [==============================] - 2s 5ms/step - loss: 1.0635 - accuracy: 0.6318 - val_loss: 1.6446 - val_accuracy: 0.4509\n",
            "Epoch 30/40\n",
            "313/313 [==============================] - 2s 5ms/step - loss: 1.0483 - accuracy: 0.6369 - val_loss: 1.6643 - val_accuracy: 0.4490\n",
            "Epoch 31/40\n",
            "313/313 [==============================] - 1s 5ms/step - loss: 1.0367 - accuracy: 0.6419 - val_loss: 1.6565 - val_accuracy: 0.4546\n",
            "Epoch 32/40\n",
            "313/313 [==============================] - 2s 6ms/step - loss: 1.0115 - accuracy: 0.6499 - val_loss: 1.6623 - val_accuracy: 0.4568\n",
            "Epoch 33/40\n",
            "313/313 [==============================] - 2s 6ms/step - loss: 0.9941 - accuracy: 0.6567 - val_loss: 1.6887 - val_accuracy: 0.4509\n",
            "Epoch 34/40\n",
            "313/313 [==============================] - 2s 6ms/step - loss: 0.9869 - accuracy: 0.6568 - val_loss: 1.6974 - val_accuracy: 0.4509\n",
            "Epoch 35/40\n",
            "313/313 [==============================] - 1s 4ms/step - loss: 0.9761 - accuracy: 0.6612 - val_loss: 1.7146 - val_accuracy: 0.4460\n",
            "Epoch 36/40\n",
            "313/313 [==============================] - 2s 5ms/step - loss: 0.9697 - accuracy: 0.6632 - val_loss: 1.6985 - val_accuracy: 0.4499\n",
            "Epoch 37/40\n",
            "313/313 [==============================] - 1s 4ms/step - loss: 0.9448 - accuracy: 0.6712 - val_loss: 1.7191 - val_accuracy: 0.4485\n",
            "Epoch 38/40\n",
            "313/313 [==============================] - 1s 5ms/step - loss: 0.9313 - accuracy: 0.6768 - val_loss: 1.7304 - val_accuracy: 0.4457\n",
            "Epoch 39/40\n",
            "313/313 [==============================] - 2s 5ms/step - loss: 0.9253 - accuracy: 0.6788 - val_loss: 1.7419 - val_accuracy: 0.4522\n",
            "Epoch 40/40\n",
            "313/313 [==============================] - 2s 6ms/step - loss: 0.9000 - accuracy: 0.6873 - val_loss: 1.7506 - val_accuracy: 0.4480\n"
          ]
        }
      ]
    },
    {
      "cell_type": "markdown",
      "metadata": {
        "id": "uFqhzV85xprJ"
      },
      "source": [
        "Let's plot the training and validation loss and accuracy curves:"
      ]
    },
    {
      "cell_type": "code",
      "metadata": {
        "id": "BYmXGkLCxprK",
        "colab": {
          "base_uri": "https://localhost:8080/",
          "height": 883
        },
        "outputId": "efbb07b4-9aee-4bbd-858d-8a91c80242eb"
      },
      "source": [
        "def plot_history(network_history):\n",
        "    plt.figure()\n",
        "    plt.xlabel('Epochs')\n",
        "    plt.ylabel('Loss')\n",
        "    plt.plot(network_history.history['loss'])\n",
        "    plt.plot(network_history.history['val_loss'])\n",
        "    plt.legend(['Training', 'Validation'])\n",
        "\n",
        "    plt.figure()\n",
        "    plt.xlabel('Epochs')\n",
        "    plt.ylabel('Accuracy')\n",
        "    plt.plot(network_history.history['accuracy'])\n",
        "    plt.plot(network_history.history['val_accuracy'])\n",
        "    plt.legend(['Training', 'Validation'], loc='lower right')\n",
        "    plt.show()\n",
        "\n",
        "plot_history(network_history)"
      ],
      "execution_count": null,
      "outputs": [
        {
          "output_type": "display_data",
          "data": {
            "text/plain": [
              "<Figure size 640x480 with 1 Axes>"
            ],
            "image/png": "[encoded data removed]"
          },
          "metadata": {}
        },
        {
          "output_type": "display_data",
          "data": {
            "text/plain": [
              "<Figure size 640x480 with 1 Axes>"
            ],
            "image/png": "[encoded data removed]"
          },
          "metadata": {}
        }
      ]
    },
    {
      "cell_type": "markdown",
      "source": [
        "What do you think? Does it overfit?"
      ],
      "metadata": {
        "id": "tgG7QeXF-dx6"
      }
    },
    {
      "cell_type": "markdown",
      "metadata": {
        "id": "_Q9rIeBBxprO"
      },
      "source": [
        "# Inspecting the model"
      ]
    },
    {
      "cell_type": "code",
      "metadata": {
        "id": "6r2AmmoMxprP",
        "colab": {
          "base_uri": "https://localhost:8080/"
        },
        "outputId": "649e2567-07a5-46a9-8b53-08546b77d967"
      },
      "source": [
        "model.summary()"
      ],
      "execution_count": null,
      "outputs": [
        {
          "output_type": "stream",
          "name": "stdout",
          "text": [
            "Model: \"sequential\"\n",
            "_________________________________________________________________\n",
            " Layer (type)                Output Shape              Param #   \n",
            "=================================================================\n",
            " dense (Dense)               (None, 128)               393344    \n",
            "                                                                 \n",
            " dense_1 (Dense)             (None, 128)               16512     \n",
            "                                                                 \n",
            " dense_2 (Dense)             (None, 10)                1290      \n",
            "                                                                 \n",
            "=================================================================\n",
            "Total params: 411146 (1.57 MB)\n",
            "Trainable params: 411146 (1.57 MB)\n",
            "Non-trainable params: 0 (0.00 Byte)\n",
            "_________________________________________________________________\n"
          ]
        }
      ]
    },
    {
      "cell_type": "code",
      "metadata": {
        "id": "D3-bVDVuxprS",
        "colab": {
          "base_uri": "https://localhost:8080/"
        },
        "outputId": "0a94da1b-c94b-4b12-9c90-751ef7247ab1"
      },
      "source": [
        "print('Input: ', model.input)"
      ],
      "execution_count": null,
      "outputs": [
        {
          "output_type": "stream",
          "name": "stdout",
          "text": [
            "Input:  KerasTensor(type_spec=TensorSpec(shape=(None, 3072), dtype=tf.float32, name='dense_input'), name='dense_input', description=\"created by layer 'dense_input'\")\n"
          ]
        }
      ]
    },
    {
      "cell_type": "code",
      "metadata": {
        "id": "Da2OJ3DmxprX",
        "colab": {
          "base_uri": "https://localhost:8080/"
        },
        "outputId": "ead6cce8-3f96-4274-d1e0-b6ea42e4b5ac"
      },
      "source": [
        "print('Layers:\\n')\n",
        "for layer in model.layers:\n",
        "    print(\"Layer's name: \", layer.name, ', trainable: ', layer.trainable)\n",
        "    print(layer.get_config(),'\\n')"
      ],
      "execution_count": null,
      "outputs": [
        {
          "output_type": "stream",
          "name": "stdout",
          "text": [
            "Layers:\n",
            "\n",
            "Layer's name:  dense , trainable:  True\n",
            "{'name': 'dense', 'trainable': True, 'dtype': 'float32', 'batch_input_shape': (None, 3072), 'units': 128, 'activation': 'tanh', 'use_bias': True, 'kernel_initializer': {'module': 'keras.initializers', 'class_name': 'GlorotUniform', 'config': {'seed': None}, 'registered_name': None}, 'bias_initializer': {'module': 'keras.initializers', 'class_name': 'Zeros', 'config': {}, 'registered_name': None}, 'kernel_regularizer': None, 'bias_regularizer': None, 'activity_regularizer': None, 'kernel_constraint': None, 'bias_constraint': None} \n",
            "\n",
            "Layer's name:  dense_1 , trainable:  True\n",
            "{'name': 'dense_1', 'trainable': True, 'dtype': 'float32', 'units': 128, 'activation': 'tanh', 'use_bias': True, 'kernel_initializer': {'module': 'keras.initializers', 'class_name': 'GlorotUniform', 'config': {'seed': None}, 'registered_name': None}, 'bias_initializer': {'module': 'keras.initializers', 'class_name': 'Zeros', 'config': {}, 'registered_name': None}, 'kernel_regularizer': None, 'bias_regularizer': None, 'activity_regularizer': None, 'kernel_constraint': None, 'bias_constraint': None} \n",
            "\n",
            "Layer's name:  dense_2 , trainable:  True\n",
            "{'name': 'dense_2', 'trainable': True, 'dtype': 'float32', 'units': 10, 'activation': 'softmax', 'use_bias': True, 'kernel_initializer': {'module': 'keras.initializers', 'class_name': 'GlorotUniform', 'config': {'seed': None}, 'registered_name': None}, 'bias_initializer': {'module': 'keras.initializers', 'class_name': 'Zeros', 'config': {}, 'registered_name': None}, 'kernel_regularizer': None, 'bias_regularizer': None, 'activity_regularizer': None, 'kernel_constraint': None, 'bias_constraint': None} \n",
            "\n"
          ]
        }
      ]
    },
    {
      "cell_type": "code",
      "metadata": {
        "id": "AtVX3M3lxprc",
        "colab": {
          "base_uri": "https://localhost:8080/"
        },
        "outputId": "45e00ea4-e270-4071-ccd5-f974b76d7214"
      },
      "source": [
        "print('Output: ', model.output)"
      ],
      "execution_count": null,
      "outputs": [
        {
          "output_type": "stream",
          "name": "stdout",
          "text": [
            "Output:  KerasTensor(type_spec=TensorSpec(shape=(None, 10), dtype=tf.float32, name=None), name='dense_2/Softmax:0', description=\"created by layer 'dense_2'\")\n"
          ]
        }
      ]
    },
    {
      "cell_type": "markdown",
      "source": [
        "## 2.1. Exercise\n",
        "Introduce [early stopping](https://www.tensorflow.org/api_docs/python/tf/keras/callbacks/EarlyStopping) and [dropout](https://www.tensorflow.org/api_docs/python/tf/keras/layers/Dropout) with a rate between 0.1..0.5. Tips:\n",
        "\n",
        "* Insert the dropout layer between the two Dense layers.\n",
        "* Set the patience of early stopping to 5.\n",
        "* Set the number of epochs to a very high number.\n",
        "* Don't forget to restore best weights after early stopping.\n",
        "* And also set early stopping to monitor validation accuracy (the default value is validation loss -- which is categorical crossentropy now).\n",
        "\n",
        "Compile and train the model. Attempt to increase the validation accuracy as much as possible by making changes to the dropout rate. Inspect the effects of the modifications."
      ],
      "metadata": {
        "id": "E-hHfs9qA_iO"
      }
    },
    {
      "cell_type": "code",
      "source": [
        "es =EarlyStopping(monitor='val_accuracy', patience=5, restore_best_weights=True)"
      ],
      "metadata": {
        "id": "NwXrPzOgEBG-"
      },
      "execution_count": null,
      "outputs": []
    },
    {
      "cell_type": "code",
      "source": [
        "# model definition with dropout\n",
        "model = Sequential()\n",
        "model.add(Dense(128, activation='relu', input_shape=(flattened_dim,)))\n",
        "model.add(Dropout(0.2))\n",
        "model.add(Dense(128, activation='relu'))\n",
        "model.add(Dense(nb_classes, activation='softmax'))\n",
        "\n",
        "# loss function and optimizer\n",
        "model.compile(loss='categorical_crossentropy', optimizer='adam', metrics=['accuracy'])"
      ],
      "metadata": {
        "id": "7hZEGzj8GFwP"
      },
      "execution_count": null,
      "outputs": []
    },
    {
      "cell_type": "code",
      "source": [
        "# training with early stopping\n",
        "network_history = model.fit(X_train, Y_train,\n",
        "                            validation_data=(X_valid,Y_valid),\n",
        "                            batch_size=128,\n",
        "                            epochs=80,\n",
        "                            verbose=1,\n",
        "                            callbacks=[es])"
      ],
      "metadata": {
        "id": "GCG54R-vGGWj",
        "colab": {
          "base_uri": "https://localhost:8080/"
        },
        "outputId": "413fbcfb-0931-4df2-93fe-315308001486"
      },
      "execution_count": null,
      "outputs": [
        {
          "output_type": "stream",
          "name": "stdout",
          "text": [
            "Epoch 1/80\n",
            "313/313 [==============================] - 5s 8ms/step - loss: 1.8734 - accuracy: 0.3477 - val_loss: 1.6292 - val_accuracy: 0.4213\n",
            "Epoch 2/80\n",
            "313/313 [==============================] - 2s 5ms/step - loss: 1.6391 - accuracy: 0.4203 - val_loss: 1.5765 - val_accuracy: 0.4432\n",
            "Epoch 3/80\n",
            "313/313 [==============================] - 2s 5ms/step - loss: 1.5497 - accuracy: 0.4527 - val_loss: 1.5037 - val_accuracy: 0.4699\n",
            "Epoch 4/80\n",
            "313/313 [==============================] - 2s 5ms/step - loss: 1.4841 - accuracy: 0.4775 - val_loss: 1.4794 - val_accuracy: 0.4815\n",
            "Epoch 5/80\n",
            "313/313 [==============================] - 1s 5ms/step - loss: 1.4355 - accuracy: 0.4942 - val_loss: 1.4506 - val_accuracy: 0.4880\n",
            "Epoch 6/80\n",
            "313/313 [==============================] - 2s 5ms/step - loss: 1.4034 - accuracy: 0.5050 - val_loss: 1.4277 - val_accuracy: 0.5019\n",
            "Epoch 7/80\n",
            "313/313 [==============================] - 1s 5ms/step - loss: 1.3637 - accuracy: 0.5186 - val_loss: 1.4274 - val_accuracy: 0.4987\n",
            "Epoch 8/80\n",
            "313/313 [==============================] - 2s 7ms/step - loss: 1.3329 - accuracy: 0.5283 - val_loss: 1.4275 - val_accuracy: 0.5034\n",
            "Epoch 9/80\n",
            "313/313 [==============================] - 2s 5ms/step - loss: 1.3062 - accuracy: 0.5390 - val_loss: 1.4003 - val_accuracy: 0.5079\n",
            "Epoch 10/80\n",
            "313/313 [==============================] - 1s 4ms/step - loss: 1.2824 - accuracy: 0.5483 - val_loss: 1.4019 - val_accuracy: 0.5077\n",
            "Epoch 11/80\n",
            "313/313 [==============================] - 2s 5ms/step - loss: 1.2625 - accuracy: 0.5565 - val_loss: 1.3781 - val_accuracy: 0.5143\n",
            "Epoch 12/80\n",
            "313/313 [==============================] - 2s 5ms/step - loss: 1.2365 - accuracy: 0.5614 - val_loss: 1.3993 - val_accuracy: 0.5116\n",
            "Epoch 13/80\n",
            "313/313 [==============================] - 1s 5ms/step - loss: 1.2237 - accuracy: 0.5663 - val_loss: 1.3880 - val_accuracy: 0.5155\n",
            "Epoch 14/80\n",
            "313/313 [==============================] - 1s 5ms/step - loss: 1.1924 - accuracy: 0.5760 - val_loss: 1.3847 - val_accuracy: 0.5137\n",
            "Epoch 15/80\n",
            "313/313 [==============================] - 2s 5ms/step - loss: 1.1818 - accuracy: 0.5817 - val_loss: 1.3925 - val_accuracy: 0.5132\n",
            "Epoch 16/80\n",
            "313/313 [==============================] - 2s 6ms/step - loss: 1.1587 - accuracy: 0.5867 - val_loss: 1.3914 - val_accuracy: 0.5171\n",
            "Epoch 17/80\n",
            "313/313 [==============================] - 2s 5ms/step - loss: 1.1378 - accuracy: 0.5980 - val_loss: 1.3835 - val_accuracy: 0.5193\n",
            "Epoch 18/80\n",
            "313/313 [==============================] - 2s 5ms/step - loss: 1.1303 - accuracy: 0.5972 - val_loss: 1.3820 - val_accuracy: 0.5248\n",
            "Epoch 19/80\n",
            "313/313 [==============================] - 2s 5ms/step - loss: 1.1103 - accuracy: 0.6057 - val_loss: 1.3769 - val_accuracy: 0.5210\n",
            "Epoch 20/80\n",
            "313/313 [==============================] - 1s 4ms/step - loss: 1.1008 - accuracy: 0.6102 - val_loss: 1.4018 - val_accuracy: 0.5193\n",
            "Epoch 21/80\n",
            "313/313 [==============================] - 1s 5ms/step - loss: 1.0798 - accuracy: 0.6140 - val_loss: 1.4054 - val_accuracy: 0.5144\n",
            "Epoch 22/80\n",
            "313/313 [==============================] - 1s 5ms/step - loss: 1.0766 - accuracy: 0.6168 - val_loss: 1.4064 - val_accuracy: 0.5182\n",
            "Epoch 23/80\n",
            "313/313 [==============================] - 2s 6ms/step - loss: 1.0572 - accuracy: 0.6233 - val_loss: 1.4152 - val_accuracy: 0.5167\n"
          ]
        }
      ]
    },
    {
      "cell_type": "markdown",
      "source": [
        "## 2.2 Exercise\n",
        "Change the [activation function of the dense layers (except the last one)](https://www.tensorflow.org/api_docs/python/tf/keras/layers/Dense) to rectified linear unit (ReLU) and the [weight initialization](https://www.tensorflow.org/api_docs/python/tf/keras/initializers) to the theoretically best one. Use the original model's code.\n",
        "\n",
        "Compile and train the model. Inspect the effects of the modifications."
      ],
      "metadata": {
        "id": "zQCDM1o1BBtF"
      }
    },
    {
      "cell_type": "code",
      "source": [
        "# model definition with relu\n",
        "model = Sequential()\n",
        "model.add(Dense(128, activation='ReLU', input_shape=(flattened_dim,)))\n",
        "model.add(Dense(128, activation='ReLU'))\n",
        "model.add(Dense(nb_classes, activation='softmax'))\n",
        "\n",
        "# loss function and optimizer\n",
        "model.compile(loss='categorical_crossentropy', optimizer='adam', metrics=['accuracy'])"
      ],
      "metadata": {
        "id": "YjHAAh-wGu9O"
      },
      "execution_count": null,
      "outputs": []
    },
    {
      "cell_type": "code",
      "source": [
        "# training\n",
        "network_history = model.fit(X_train, Y_train,\n",
        "                            validation_data=(X_valid,Y_valid),\n",
        "                            batch_size=128,\n",
        "                            epochs=40,\n",
        "                            verbose=1,\n",
        "                            callbacks=[es])"
      ],
      "metadata": {
        "id": "rarwKM1wGxMz",
        "colab": {
          "base_uri": "https://localhost:8080/"
        },
        "outputId": "5a485e76-f732-4380-8cf3-80d40c18b64f"
      },
      "execution_count": null,
      "outputs": [
        {
          "output_type": "stream",
          "name": "stdout",
          "text": [
            "Epoch 1/40\n",
            "313/313 [==============================] - 3s 6ms/step - loss: 1.7762 - accuracy: 0.3872 - val_loss: 1.6229 - val_accuracy: 0.4267\n",
            "Epoch 2/40\n",
            "313/313 [==============================] - 1s 5ms/step - loss: 1.5270 - accuracy: 0.4628 - val_loss: 1.5271 - val_accuracy: 0.4697\n",
            "Epoch 3/40\n",
            "313/313 [==============================] - 1s 5ms/step - loss: 1.4113 - accuracy: 0.5061 - val_loss: 1.5056 - val_accuracy: 0.4777\n",
            "Epoch 4/40\n",
            "313/313 [==============================] - 1s 4ms/step - loss: 1.3202 - accuracy: 0.5371 - val_loss: 1.4819 - val_accuracy: 0.4885\n",
            "Epoch 5/40\n",
            "313/313 [==============================] - 1s 5ms/step - loss: 1.2531 - accuracy: 0.5613 - val_loss: 1.4912 - val_accuracy: 0.4904\n",
            "Epoch 6/40\n",
            "313/313 [==============================] - 2s 5ms/step - loss: 1.1921 - accuracy: 0.5833 - val_loss: 1.4700 - val_accuracy: 0.5012\n",
            "Epoch 7/40\n",
            "313/313 [==============================] - 2s 6ms/step - loss: 1.1380 - accuracy: 0.5982 - val_loss: 1.4839 - val_accuracy: 0.4989\n",
            "Epoch 8/40\n",
            "313/313 [==============================] - 1s 5ms/step - loss: 1.0882 - accuracy: 0.6195 - val_loss: 1.4944 - val_accuracy: 0.4905\n",
            "Epoch 9/40\n",
            "313/313 [==============================] - 1s 5ms/step - loss: 1.0379 - accuracy: 0.6399 - val_loss: 1.5115 - val_accuracy: 0.5004\n",
            "Epoch 10/40\n",
            "313/313 [==============================] - 2s 5ms/step - loss: 0.9909 - accuracy: 0.6529 - val_loss: 1.5624 - val_accuracy: 0.5019\n",
            "Epoch 11/40\n",
            "313/313 [==============================] - 1s 4ms/step - loss: 0.9527 - accuracy: 0.6660 - val_loss: 1.5846 - val_accuracy: 0.4964\n",
            "Epoch 12/40\n",
            "313/313 [==============================] - 1s 4ms/step - loss: 0.9041 - accuracy: 0.6825 - val_loss: 1.6051 - val_accuracy: 0.5030\n",
            "Epoch 13/40\n",
            "313/313 [==============================] - 2s 5ms/step - loss: 0.8724 - accuracy: 0.6910 - val_loss: 1.6338 - val_accuracy: 0.4953\n",
            "Epoch 14/40\n",
            "313/313 [==============================] - 2s 6ms/step - loss: 0.8308 - accuracy: 0.7115 - val_loss: 1.7026 - val_accuracy: 0.4971\n",
            "Epoch 15/40\n",
            "313/313 [==============================] - 2s 6ms/step - loss: 0.7898 - accuracy: 0.7260 - val_loss: 1.7147 - val_accuracy: 0.4976\n",
            "Epoch 16/40\n",
            "313/313 [==============================] - 1s 4ms/step - loss: 0.7558 - accuracy: 0.7346 - val_loss: 1.7868 - val_accuracy: 0.4851\n",
            "Epoch 17/40\n",
            "313/313 [==============================] - 1s 4ms/step - loss: 0.7233 - accuracy: 0.7453 - val_loss: 1.7971 - val_accuracy: 0.4961\n"
          ]
        }
      ]
    },
    {
      "cell_type": "markdown",
      "source": [
        "# 2.3. Exercise\n",
        "Based on the modifications above, and by any further modifications (e.g. more layers, less layers, more neurons/layer, etc.) to the model design, find a combination that is able to achieve **validation accuracy, that is higher than 53%**.\n"
      ],
      "metadata": {
        "id": "j1tGVPdD-pp3"
      }
    },
    {
      "cell_type": "code",
      "source": [
        "es = EarlyStopping(monitor='val_accuracy', patience=25, restore_best_weights=True)"
      ],
      "metadata": {
        "id": "5dBQxJHIHrbd"
      },
      "execution_count": 56,
      "outputs": []
    },
    {
      "cell_type": "code",
      "source": [
        "# model definition with relu\n",
        "model = Sequential()\n",
        "model.add(Dense(1024, activation='selu', kernel_initializer='glorot_normal', input_shape=(flattened_dim,)))\n",
        "model.add(Dropout(0.2))\n",
        "model.add(Dense(512, activation='selu', kernel_initializer='glorot_normal'))\n",
        "model.add(Dropout(0.3))\n",
        "model.add(Dense(256,activation='selu', kernel_initializer='glorot_normal'))\n",
        "model.add(Dropout(0.4))\n",
        "model.add(Dense(128,activation='selu', kernel_initializer='glorot_normal'))\n",
        "model.add(Dropout(0.2))\n",
        "model.add(Dense(64,activation='selu', kernel_initializer='glorot_normal'))\n",
        "model.add(Dense(nb_classes, activation='softmax'))\n",
        "\n",
        "# loss function and optimizer\n",
        "model.compile(loss='categorical_crossentropy', optimizer='adam', metrics=['accuracy'])\n",
        "model.summary()"
      ],
      "metadata": {
        "id": "PuxHOqLt-3Nd",
        "colab": {
          "base_uri": "https://localhost:8080/"
        },
        "outputId": "3bacc459-a4ae-4af9-8477-7454f8a4e540"
      },
      "execution_count": 57,
      "outputs": [
        {
          "output_type": "stream",
          "name": "stdout",
          "text": [
            "Model: \"sequential_6\"\n",
            "_________________________________________________________________\n",
            " Layer (type)                Output Shape              Param #   \n",
            "=================================================================\n",
            " dense_28 (Dense)            (None, 1024)              3146752   \n",
            "                                                                 \n",
            " dropout_14 (Dropout)        (None, 1024)              0         \n",
            "                                                                 \n",
            " dense_29 (Dense)            (None, 512)               524800    \n",
            "                                                                 \n",
            " dropout_15 (Dropout)        (None, 512)               0         \n",
            "                                                                 \n",
            " dense_30 (Dense)            (None, 256)               131328    \n",
            "                                                                 \n",
            " dropout_16 (Dropout)        (None, 256)               0         \n",
            "                                                                 \n",
            " dense_31 (Dense)            (None, 128)               32896     \n",
            "                                                                 \n",
            " dropout_17 (Dropout)        (None, 128)               0         \n",
            "                                                                 \n",
            " dense_32 (Dense)            (None, 64)                8256      \n",
            "                                                                 \n",
            " dense_33 (Dense)            (None, 10)                650       \n",
            "                                                                 \n",
            "=================================================================\n",
            "Total params: 3844682 (14.67 MB)\n",
            "Trainable params: 3844682 (14.67 MB)\n",
            "Non-trainable params: 0 (0.00 Byte)\n",
            "_________________________________________________________________\n"
          ]
        }
      ]
    },
    {
      "cell_type": "code",
      "source": [
        "# training\n",
        "network_history = model.fit(X_train, Y_train,\n",
        "                            validation_data=(X_valid,Y_valid),\n",
        "                            batch_size=128,\n",
        "                            epochs=100,\n",
        "                            verbose=1,\n",
        "                            callbacks=[es],)"
      ],
      "metadata": {
        "id": "u8tFNCNVHyt9",
        "colab": {
          "base_uri": "https://localhost:8080/"
        },
        "outputId": "5f7bfeb6-6de7-4b65-b07b-c32860c07271"
      },
      "execution_count": 59,
      "outputs": [
        {
          "output_type": "stream",
          "name": "stdout",
          "text": [
            "Epoch 1/100\n",
            "313/313 [==============================] - 4s 12ms/step - loss: 0.6113 - accuracy: 0.7932 - val_loss: 1.5084 - val_accuracy: 0.5614\n",
            "Epoch 2/100\n",
            "313/313 [==============================] - 3s 11ms/step - loss: 0.6120 - accuracy: 0.7933 - val_loss: 1.5076 - val_accuracy: 0.5547\n",
            "Epoch 3/100\n",
            "313/313 [==============================] - 4s 12ms/step - loss: 0.6049 - accuracy: 0.7936 - val_loss: 1.6106 - val_accuracy: 0.5574\n",
            "Epoch 4/100\n",
            "313/313 [==============================] - 6s 18ms/step - loss: 0.5956 - accuracy: 0.7975 - val_loss: 1.5562 - val_accuracy: 0.5597\n",
            "Epoch 5/100\n",
            "313/313 [==============================] - 4s 14ms/step - loss: 0.5879 - accuracy: 0.8018 - val_loss: 1.5677 - val_accuracy: 0.5608\n",
            "Epoch 6/100\n",
            "313/313 [==============================] - 3s 11ms/step - loss: 0.5774 - accuracy: 0.8044 - val_loss: 1.6145 - val_accuracy: 0.5612\n",
            "Epoch 7/100\n",
            "313/313 [==============================] - 2s 7ms/step - loss: 0.5609 - accuracy: 0.8110 - val_loss: 1.5271 - val_accuracy: 0.5640\n",
            "Epoch 8/100\n",
            "313/313 [==============================] - 2s 8ms/step - loss: 0.5441 - accuracy: 0.8176 - val_loss: 1.5714 - val_accuracy: 0.5612\n",
            "Epoch 9/100\n",
            "313/313 [==============================] - 2s 6ms/step - loss: 0.5521 - accuracy: 0.8152 - val_loss: 1.5955 - val_accuracy: 0.5575\n",
            "Epoch 10/100\n",
            "313/313 [==============================] - 2s 6ms/step - loss: 0.5658 - accuracy: 0.8112 - val_loss: 1.5591 - val_accuracy: 0.5571\n",
            "Epoch 11/100\n",
            "313/313 [==============================] - 2s 6ms/step - loss: 0.5409 - accuracy: 0.8187 - val_loss: 1.5683 - val_accuracy: 0.5622\n",
            "Epoch 12/100\n",
            "313/313 [==============================] - 2s 6ms/step - loss: 0.6238 - accuracy: 0.7931 - val_loss: 1.5690 - val_accuracy: 0.5442\n",
            "Epoch 13/100\n",
            "313/313 [==============================] - 2s 7ms/step - loss: 0.5757 - accuracy: 0.8086 - val_loss: 1.5832 - val_accuracy: 0.5575\n",
            "Epoch 14/100\n",
            "313/313 [==============================] - 2s 7ms/step - loss: 0.5562 - accuracy: 0.8171 - val_loss: 1.5510 - val_accuracy: 0.5647\n",
            "Epoch 15/100\n",
            "313/313 [==============================] - 2s 7ms/step - loss: 0.5082 - accuracy: 0.8291 - val_loss: 1.6492 - val_accuracy: 0.5636\n",
            "Epoch 16/100\n",
            "313/313 [==============================] - 2s 6ms/step - loss: 0.5142 - accuracy: 0.8273 - val_loss: 1.6347 - val_accuracy: 0.5581\n",
            "Epoch 17/100\n",
            "313/313 [==============================] - 2s 7ms/step - loss: 0.5199 - accuracy: 0.8288 - val_loss: 1.5709 - val_accuracy: 0.5633\n",
            "Epoch 18/100\n",
            "313/313 [==============================] - 2s 8ms/step - loss: 0.5004 - accuracy: 0.8343 - val_loss: 1.6633 - val_accuracy: 0.5600\n",
            "Epoch 19/100\n",
            "313/313 [==============================] - 2s 8ms/step - loss: 0.4845 - accuracy: 0.8398 - val_loss: 1.6340 - val_accuracy: 0.5728\n",
            "Epoch 20/100\n",
            "313/313 [==============================] - 2s 6ms/step - loss: 0.4854 - accuracy: 0.8406 - val_loss: 1.6693 - val_accuracy: 0.5629\n",
            "Epoch 21/100\n",
            "313/313 [==============================] - 2s 6ms/step - loss: 0.4694 - accuracy: 0.8446 - val_loss: 1.6640 - val_accuracy: 0.5555\n",
            "Epoch 22/100\n",
            "313/313 [==============================] - 2s 6ms/step - loss: 0.4725 - accuracy: 0.8431 - val_loss: 1.7217 - val_accuracy: 0.5599\n",
            "Epoch 23/100\n",
            "313/313 [==============================] - 2s 6ms/step - loss: 0.4673 - accuracy: 0.8459 - val_loss: 1.6246 - val_accuracy: 0.5624\n",
            "Epoch 24/100\n",
            "313/313 [==============================] - 2s 6ms/step - loss: 0.4553 - accuracy: 0.8502 - val_loss: 1.6911 - val_accuracy: 0.5688\n",
            "Epoch 25/100\n",
            "313/313 [==============================] - 2s 7ms/step - loss: 0.4610 - accuracy: 0.8488 - val_loss: 1.7140 - val_accuracy: 0.5594\n",
            "Epoch 26/100\n",
            "313/313 [==============================] - 2s 6ms/step - loss: 0.4529 - accuracy: 0.8510 - val_loss: 1.6997 - val_accuracy: 0.5557\n",
            "Epoch 27/100\n",
            "313/313 [==============================] - 2s 6ms/step - loss: 0.4511 - accuracy: 0.8506 - val_loss: 1.6949 - val_accuracy: 0.5554\n",
            "Epoch 28/100\n",
            "313/313 [==============================] - 2s 6ms/step - loss: 0.4720 - accuracy: 0.8448 - val_loss: 1.7214 - val_accuracy: 0.5605\n",
            "Epoch 29/100\n",
            "313/313 [==============================] - 2s 6ms/step - loss: 0.4369 - accuracy: 0.8571 - val_loss: 1.6839 - val_accuracy: 0.5543\n",
            "Epoch 30/100\n",
            "313/313 [==============================] - 2s 6ms/step - loss: 0.4301 - accuracy: 0.8581 - val_loss: 1.7137 - val_accuracy: 0.5597\n",
            "Epoch 31/100\n",
            "313/313 [==============================] - 2s 8ms/step - loss: 0.4312 - accuracy: 0.8572 - val_loss: 1.7260 - val_accuracy: 0.5538\n",
            "Epoch 32/100\n",
            "313/313 [==============================] - 2s 6ms/step - loss: 0.4293 - accuracy: 0.8595 - val_loss: 1.7820 - val_accuracy: 0.5565\n",
            "Epoch 33/100\n",
            "313/313 [==============================] - 2s 6ms/step - loss: 0.4726 - accuracy: 0.8472 - val_loss: 1.6449 - val_accuracy: 0.5568\n",
            "Epoch 34/100\n",
            "313/313 [==============================] - 2s 6ms/step - loss: 0.4548 - accuracy: 0.8530 - val_loss: 1.7548 - val_accuracy: 0.5622\n",
            "Epoch 35/100\n",
            "313/313 [==============================] - 2s 6ms/step - loss: 0.4236 - accuracy: 0.8609 - val_loss: 1.7314 - val_accuracy: 0.5673\n",
            "Epoch 36/100\n",
            "313/313 [==============================] - 2s 6ms/step - loss: 0.4593 - accuracy: 0.8536 - val_loss: 1.6155 - val_accuracy: 0.5537\n",
            "Epoch 37/100\n",
            "313/313 [==============================] - 2s 7ms/step - loss: 0.4978 - accuracy: 0.8389 - val_loss: 1.7044 - val_accuracy: 0.5382\n",
            "Epoch 38/100\n",
            "313/313 [==============================] - 2s 6ms/step - loss: 0.6609 - accuracy: 0.7882 - val_loss: 1.6709 - val_accuracy: 0.5591\n",
            "Epoch 39/100\n",
            "313/313 [==============================] - 2s 6ms/step - loss: 0.4470 - accuracy: 0.8532 - val_loss: 1.7114 - val_accuracy: 0.5677\n",
            "Epoch 40/100\n",
            "313/313 [==============================] - 2s 6ms/step - loss: 0.4050 - accuracy: 0.8650 - val_loss: 1.7798 - val_accuracy: 0.5663\n",
            "Epoch 41/100\n",
            "313/313 [==============================] - 2s 6ms/step - loss: 0.3860 - accuracy: 0.8742 - val_loss: 1.7753 - val_accuracy: 0.5616\n",
            "Epoch 42/100\n",
            "313/313 [==============================] - 2s 6ms/step - loss: 0.4013 - accuracy: 0.8710 - val_loss: 1.7617 - val_accuracy: 0.5571\n",
            "Epoch 43/100\n",
            "313/313 [==============================] - 2s 8ms/step - loss: 0.3991 - accuracy: 0.8696 - val_loss: 1.7514 - val_accuracy: 0.5663\n",
            "Epoch 44/100\n",
            "313/313 [==============================] - 2s 6ms/step - loss: 0.4108 - accuracy: 0.8673 - val_loss: 1.6473 - val_accuracy: 0.5568\n"
          ]
        }
      ]
    },
    {
      "cell_type": "markdown",
      "source": [
        "# 3. Evaluation on test data and inference\n",
        "At this point, we will perform a basic evaluation and inference. With the model.evaluate function, the same metrics are calculated, that were used during training:"
      ],
      "metadata": {
        "id": "2FtKp-a2-A9m"
      }
    },
    {
      "cell_type": "code",
      "source": [
        "print(model.evaluate(X_test, Y_test))"
      ],
      "metadata": {
        "id": "I3_9wgDREUna",
        "colab": {
          "base_uri": "https://localhost:8080/"
        },
        "outputId": "6c3fe1ce-c7bb-4993-9eae-b9b03a8a8954"
      },
      "execution_count": 60,
      "outputs": [
        {
          "output_type": "stream",
          "name": "stdout",
          "text": [
            "313/313 [==============================] - 1s 3ms/step - loss: 1.6336 - accuracy: 0.5673\n",
            "[1.6335813999176025, 0.567300021648407]\n"
          ]
        }
      ]
    },
    {
      "cell_type": "markdown",
      "source": [
        "we would like to see similar values, as in the validation set. If those are close to each other, then the generalization ability of the model is good (in case of an independent test-set)."
      ],
      "metadata": {
        "id": "ECHguBFtGL7f"
      }
    },
    {
      "cell_type": "markdown",
      "source": [
        "## 3.1. Exercise\n",
        "Predict the class of the first 10 elements in the test set, and compare the predicted values with the actual, target values in the test set. Hints:\n",
        "* you can use [model.predict](https://www.activestate.com/resources/quick-reads/how-to-use-a-model-to-do-predictions-with-keras/) for prediction\n",
        "* from the output you can select the largest value with the [argmax() function of Numpy](https://stackoverflow.com/questions/62358642/convert-one-hot-encoding-back-to-number-label). As there are multiple values, you have to call it with axis=1 parameter.\n",
        "* it is enought to compare the predictions and the targets by printing the values out and inspecting them."
      ],
      "metadata": {
        "id": "0Io4zYJeHjz6"
      }
    },
    {
      "cell_type": "code",
      "source": [
        "preds = model.predict(X_test[:10])\n",
        "preds_dense = np.argmax(preds, axis=1)"
      ],
      "metadata": {
        "id": "XEEyU7exILqF",
        "colab": {
          "base_uri": "https://localhost:8080/"
        },
        "outputId": "cf05dd67-d2d4-487c-895c-2a706cc01ccf"
      },
      "execution_count": 61,
      "outputs": [
        {
          "output_type": "stream",
          "name": "stdout",
          "text": [
            "1/1 [==============================] - 0s 73ms/step\n"
          ]
        }
      ]
    },
    {
      "cell_type": "markdown",
      "source": [
        "Before comparision, you have to convert back the one-hot encoded target values the same way, as you converted the output of the neural network to class values with argmax() function."
      ],
      "metadata": {
        "id": "seZTEFI-I5cZ"
      }
    },
    {
      "cell_type": "code",
      "source": [
        "print(\"Target labels:\", np.argmax(Y_test[:10],axis=1))\n",
        "print(\"Predicted labels:\", preds_dense)"
      ],
      "metadata": {
        "id": "PHLvoMuIIkJ6",
        "colab": {
          "base_uri": "https://localhost:8080/"
        },
        "outputId": "99d18895-7a5b-4900-c04a-b5f6222fb6b7"
      },
      "execution_count": 62,
      "outputs": [
        {
          "output_type": "stream",
          "name": "stdout",
          "text": [
            "Target labels: [3 8 8 0 6 6 1 6 3 1]\n",
            "Predicted labels: [3 8 0 0 4 6 3 6 3 1]\n"
          ]
        }
      ]
    }
  ]
}